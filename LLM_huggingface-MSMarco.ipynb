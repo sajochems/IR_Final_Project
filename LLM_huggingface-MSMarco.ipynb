{
 "cells": [
  {
   "cell_type": "code",
   "execution_count": 1,
   "metadata": {
    "pycharm": {
     "name": "#%%\n"
    },
    "scrolled": true
   },
   "outputs": [
    {
     "name": "stdout",
     "output_type": "stream",
     "text": [
      "0.13.0\n"
     ]
    },
    {
     "name": "stderr",
     "output_type": "stream",
     "text": [
      "Java started and loaded: pyterrier.java, pyterrier.terrier.java [version=5.11 (build: craig.macdonald 2025-01-13 21:29), helper_version=0.0.8]\n",
      "C:\\Users\\Scott\\AppData\\Local\\Temp\\ipykernel_11068\\2500592727.py:6: DeprecationWarning: Call to deprecated method pt.init(). Deprecated since version 0.11.0.\n",
      "java is now started automatically with default settings. To force initialisation early, run:\n",
      "pt.java.init() # optional, forces java initialisation\n",
      "  pt.init()\n"
     ]
    }
   ],
   "source": [
    "import ir_datasets\n",
    "\n",
    "import pyterrier as pt\n",
    "print(pt.__version__)\n",
    "\n",
    "pt.init()\n",
    "from pathlib import Path\n",
    "import re\n",
    "import pandas as pd\n",
    "from pyterrier.measures import RR, nDCG, MAP, MRR, Recall, Precision\n",
    "from tqdm.notebook import tqdm"
   ]
  },
  {
   "cell_type": "code",
   "execution_count": 2,
   "metadata": {
    "collapsed": false,
    "jupyter": {
     "outputs_hidden": false
    },
    "pycharm": {
     "name": "#%%\n"
    }
   },
   "outputs": [
    {
     "name": "stdout",
     "output_type": "stream",
     "text": [
      "GenericDoc(doc_id='0', text='The presence of communication amid scientific minds was equally important to the success of the Manhattan Project as scientific intellect was. The only cloud hanging over the impressive achievement of the atomic researchers and engineers is what their success truly meant; hundreds of thousands of innocent lives obliterated.')\n"
     ]
    }
   ],
   "source": [
    "msmarco = ir_datasets.load(\"msmarco-passage/dev/small\")\n",
    "print(msmarco.docs[0])"
   ]
  },
  {
   "cell_type": "code",
   "execution_count": 3,
   "metadata": {
    "collapsed": false,
    "jupyter": {
     "outputs_hidden": false
    },
    "pycharm": {
     "name": "#%%\n"
    }
   },
   "outputs": [
    {
     "name": "stdout",
     "output_type": "stream",
     "text": [
      "Indices already exist, skipping creation\n"
     ]
    }
   ],
   "source": [
    "# OPTIONAL - Index the data\n",
    "\n",
    "idx_path = Path.cwd() / \"indices\" / \"msmarco_dev_small\"\n",
    "\n",
    "def msmarco_gen(limit=100000):\n",
    "    lastdoc = 0\n",
    "    for elem in msmarco.docs:\n",
    "        if lastdoc >= limit:\n",
    "            break\n",
    "        yield {\n",
    "            \"docno\": elem.doc_id,\n",
    "            \"text\": elem.text,\n",
    "        }\n",
    "        lastdoc += 1\n",
    "\n",
    "max(len(text.encode(\"utf-8\")) for _, text in msmarco.docs)\n",
    "\n",
    "if not idx_path.exists() or not any(idx_path.iterdir()):\n",
    "    indexer = pt.IterDictIndexer(\n",
    "        str(idx_path),\n",
    "        meta={\n",
    "            \"docno\": 20,\n",
    "            \"text\": 4096,\n",
    "        },\n",
    "        stemmer=\"porter\",\n",
    "        stopwords=\"terrier\",\n",
    "    )\n",
    "\n",
    "    index_ref = indexer.index(msmarco_gen())\n",
    "else:\n",
    "    print(\"Indices already exist, skipping creation\")"
   ]
  },
  {
   "cell_type": "code",
   "execution_count": 4,
   "metadata": {
    "collapsed": false,
    "jupyter": {
     "outputs_hidden": false
    },
    "pycharm": {
     "name": "#%%\n"
    }
   },
   "outputs": [
    {
     "name": "stdout",
     "output_type": "stream",
     "text": [
      "12:26:20.050 [main] WARN org.terrier.structures.BaseCompressingMetaIndex -- Structure meta reading data file directly from disk (SLOW) - try index.meta.data-source=fileinmem in the index properties file. 1,9 GiB of memory would be required.\n"
     ]
    },
    {
     "name": "stderr",
     "output_type": "stream",
     "text": [
      "C:\\Users\\Scott\\AppData\\Local\\Temp\\ipykernel_11068\\1706852411.py:8: DeprecationWarning: Call to deprecated class BatchRetrieve. (use pt.terrier.Retriever() instead) -- Deprecated since version 0.11.0.\n",
      "  retriever_msmarco = pt.BatchRetrieve(index_msmarco, wmodel=\"BM25\")\n"
     ]
    }
   ],
   "source": [
    "# Define index paths\n",
    "index_dir_msmarco = Path.cwd() / \"indices\" / \"msmarco_dev_small\"\n",
    "# Load the indexes\n",
    "index_msmarco = pt.IndexFactory.of(str(index_dir_msmarco))\n",
    "#index_antique = pt.IndexFactory.of(str(index_dir_antique))\n",
    "\n",
    "# Use BM25 as the baseline retriever\n",
    "retriever_msmarco = pt.BatchRetrieve(index_msmarco, wmodel=\"BM25\")\n",
    "#retriever_antique = pt.BatchRetrieve(index_antique, wmodel=\"BM25\")"
   ]
  },
  {
   "cell_type": "code",
   "execution_count": 5,
   "metadata": {
    "collapsed": false,
    "jupyter": {
     "outputs_hidden": false
    },
    "pycharm": {
     "name": "#%%\n"
    }
   },
   "outputs": [],
   "source": [
    "# Convert qrels to DataFrames\n",
    "qrels_msmarco = pd.DataFrame(msmarco.qrels_iter())\n",
    "#qrels_antique = pd.DataFrame(antique.qrels_iter())\n",
    "\n",
    "# Convert queries to DataFrames\n",
    "queries_msmarco = pd.DataFrame(msmarco.queries_iter())\n",
    "#queries_antique = pd.DataFrame(antique.queries_iter())\n",
    "\n",
    "# Rename columns for PyTerrier compatibility\n",
    "qrels_msmarco.rename(columns={\"query_id\": \"qid\", \"doc_id\": \"docno\", \"relevance\": \"label\"}, inplace=True)\n",
    "#qrels_antique.rename(columns={\"query_id\": \"qid\", \"doc_id\": \"docno\", \"relevance\": \"label\"}, inplace=True)\n",
    "\n",
    "queries_msmarco.rename(columns={\"query_id\": \"qid\", \"text\": \"query\"}, inplace=True)\n",
    "#queries_antique.rename(columns={\"query_id\": \"qid\", \"text\": \"query\"}, inplace=True)"
   ]
  },
  {
   "cell_type": "code",
   "execution_count": 6,
   "metadata": {
    "collapsed": false,
    "jupyter": {
     "outputs_hidden": false
    },
    "pycharm": {
     "name": "#%%\n"
    }
   },
   "outputs": [
    {
     "name": "stdout",
     "output_type": "stream",
     "text": [
      "Using device: cuda\n",
      "CUDA Available: True\n",
      "Current Device: 0\n",
      "Device Name: NVIDIA GeForce RTX 3060\n",
      "Device Count: 1\n"
     ]
    }
   ],
   "source": [
    "import torch\n",
    "import re\n",
    "\n",
    "device = torch.device(\"cuda\" if torch.cuda.is_available() else \"cpu\")\n",
    "print(\"Using device:\", device)\n",
    "print(\"CUDA Available:\", torch.cuda.is_available())\n",
    "print(\"Current Device:\", torch.cuda.current_device())\n",
    "print(\"Device Name:\", torch.cuda.get_device_name(0))\n",
    "print(\"Device Count:\", torch.cuda.device_count())"
   ]
  },
  {
   "cell_type": "code",
   "execution_count": 7,
   "metadata": {
    "collapsed": false,
    "jupyter": {
     "outputs_hidden": false
    },
    "pycharm": {
     "name": "#%%\n"
    },
    "scrolled": true
   },
   "outputs": [
    {
     "name": "stdout",
     "output_type": "stream",
     "text": [
      "WARNING:tensorflow:From C:\\Users\\Scott\\AppData\\Local\\Programs\\Python\\Python39\\lib\\site-packages\\keras\\src\\losses.py:2976: The name tf.losses.sparse_softmax_cross_entropy is deprecated. Please use tf.compat.v1.losses.sparse_softmax_cross_entropy instead.\n",
      "\n"
     ]
    },
    {
     "data": {
      "text/plain": [
       "T5ForConditionalGeneration(\n",
       "  (shared): Embedding(32128, 768)\n",
       "  (encoder): T5Stack(\n",
       "    (embed_tokens): Embedding(32128, 768)\n",
       "    (block): ModuleList(\n",
       "      (0): T5Block(\n",
       "        (layer): ModuleList(\n",
       "          (0): T5LayerSelfAttention(\n",
       "            (SelfAttention): T5Attention(\n",
       "              (q): Linear(in_features=768, out_features=768, bias=False)\n",
       "              (k): Linear(in_features=768, out_features=768, bias=False)\n",
       "              (v): Linear(in_features=768, out_features=768, bias=False)\n",
       "              (o): Linear(in_features=768, out_features=768, bias=False)\n",
       "              (relative_attention_bias): Embedding(32, 12)\n",
       "            )\n",
       "            (layer_norm): T5LayerNorm()\n",
       "            (dropout): Dropout(p=0.1, inplace=False)\n",
       "          )\n",
       "          (1): T5LayerFF(\n",
       "            (DenseReluDense): T5DenseActDense(\n",
       "              (wi): Linear(in_features=768, out_features=3072, bias=False)\n",
       "              (wo): Linear(in_features=3072, out_features=768, bias=False)\n",
       "              (dropout): Dropout(p=0.1, inplace=False)\n",
       "              (act): ReLU()\n",
       "            )\n",
       "            (layer_norm): T5LayerNorm()\n",
       "            (dropout): Dropout(p=0.1, inplace=False)\n",
       "          )\n",
       "        )\n",
       "      )\n",
       "      (1-11): 11 x T5Block(\n",
       "        (layer): ModuleList(\n",
       "          (0): T5LayerSelfAttention(\n",
       "            (SelfAttention): T5Attention(\n",
       "              (q): Linear(in_features=768, out_features=768, bias=False)\n",
       "              (k): Linear(in_features=768, out_features=768, bias=False)\n",
       "              (v): Linear(in_features=768, out_features=768, bias=False)\n",
       "              (o): Linear(in_features=768, out_features=768, bias=False)\n",
       "            )\n",
       "            (layer_norm): T5LayerNorm()\n",
       "            (dropout): Dropout(p=0.1, inplace=False)\n",
       "          )\n",
       "          (1): T5LayerFF(\n",
       "            (DenseReluDense): T5DenseActDense(\n",
       "              (wi): Linear(in_features=768, out_features=3072, bias=False)\n",
       "              (wo): Linear(in_features=3072, out_features=768, bias=False)\n",
       "              (dropout): Dropout(p=0.1, inplace=False)\n",
       "              (act): ReLU()\n",
       "            )\n",
       "            (layer_norm): T5LayerNorm()\n",
       "            (dropout): Dropout(p=0.1, inplace=False)\n",
       "          )\n",
       "        )\n",
       "      )\n",
       "    )\n",
       "    (final_layer_norm): T5LayerNorm()\n",
       "    (dropout): Dropout(p=0.1, inplace=False)\n",
       "  )\n",
       "  (decoder): T5Stack(\n",
       "    (embed_tokens): Embedding(32128, 768)\n",
       "    (block): ModuleList(\n",
       "      (0): T5Block(\n",
       "        (layer): ModuleList(\n",
       "          (0): T5LayerSelfAttention(\n",
       "            (SelfAttention): T5Attention(\n",
       "              (q): Linear(in_features=768, out_features=768, bias=False)\n",
       "              (k): Linear(in_features=768, out_features=768, bias=False)\n",
       "              (v): Linear(in_features=768, out_features=768, bias=False)\n",
       "              (o): Linear(in_features=768, out_features=768, bias=False)\n",
       "              (relative_attention_bias): Embedding(32, 12)\n",
       "            )\n",
       "            (layer_norm): T5LayerNorm()\n",
       "            (dropout): Dropout(p=0.1, inplace=False)\n",
       "          )\n",
       "          (1): T5LayerCrossAttention(\n",
       "            (EncDecAttention): T5Attention(\n",
       "              (q): Linear(in_features=768, out_features=768, bias=False)\n",
       "              (k): Linear(in_features=768, out_features=768, bias=False)\n",
       "              (v): Linear(in_features=768, out_features=768, bias=False)\n",
       "              (o): Linear(in_features=768, out_features=768, bias=False)\n",
       "            )\n",
       "            (layer_norm): T5LayerNorm()\n",
       "            (dropout): Dropout(p=0.1, inplace=False)\n",
       "          )\n",
       "          (2): T5LayerFF(\n",
       "            (DenseReluDense): T5DenseActDense(\n",
       "              (wi): Linear(in_features=768, out_features=3072, bias=False)\n",
       "              (wo): Linear(in_features=3072, out_features=768, bias=False)\n",
       "              (dropout): Dropout(p=0.1, inplace=False)\n",
       "              (act): ReLU()\n",
       "            )\n",
       "            (layer_norm): T5LayerNorm()\n",
       "            (dropout): Dropout(p=0.1, inplace=False)\n",
       "          )\n",
       "        )\n",
       "      )\n",
       "      (1-11): 11 x T5Block(\n",
       "        (layer): ModuleList(\n",
       "          (0): T5LayerSelfAttention(\n",
       "            (SelfAttention): T5Attention(\n",
       "              (q): Linear(in_features=768, out_features=768, bias=False)\n",
       "              (k): Linear(in_features=768, out_features=768, bias=False)\n",
       "              (v): Linear(in_features=768, out_features=768, bias=False)\n",
       "              (o): Linear(in_features=768, out_features=768, bias=False)\n",
       "            )\n",
       "            (layer_norm): T5LayerNorm()\n",
       "            (dropout): Dropout(p=0.1, inplace=False)\n",
       "          )\n",
       "          (1): T5LayerCrossAttention(\n",
       "            (EncDecAttention): T5Attention(\n",
       "              (q): Linear(in_features=768, out_features=768, bias=False)\n",
       "              (k): Linear(in_features=768, out_features=768, bias=False)\n",
       "              (v): Linear(in_features=768, out_features=768, bias=False)\n",
       "              (o): Linear(in_features=768, out_features=768, bias=False)\n",
       "            )\n",
       "            (layer_norm): T5LayerNorm()\n",
       "            (dropout): Dropout(p=0.1, inplace=False)\n",
       "          )\n",
       "          (2): T5LayerFF(\n",
       "            (DenseReluDense): T5DenseActDense(\n",
       "              (wi): Linear(in_features=768, out_features=3072, bias=False)\n",
       "              (wo): Linear(in_features=3072, out_features=768, bias=False)\n",
       "              (dropout): Dropout(p=0.1, inplace=False)\n",
       "              (act): ReLU()\n",
       "            )\n",
       "            (layer_norm): T5LayerNorm()\n",
       "            (dropout): Dropout(p=0.1, inplace=False)\n",
       "          )\n",
       "        )\n",
       "      )\n",
       "    )\n",
       "    (final_layer_norm): T5LayerNorm()\n",
       "    (dropout): Dropout(p=0.1, inplace=False)\n",
       "  )\n",
       "  (lm_head): Linear(in_features=768, out_features=32128, bias=False)\n",
       ")"
      ]
     },
     "execution_count": 7,
     "metadata": {},
     "output_type": "execute_result"
    }
   ],
   "source": [
    "#Model imports\n",
    "import torch\n",
    "from transformers import T5ForConditionalGeneration, T5Tokenizer\n",
    "\n",
    "# Load the T5 model\n",
    "MODEL_ID = \"prhegde/t5-query-reformulation-RL\"\n",
    "tokenizer = T5Tokenizer.from_pretrained(MODEL_ID)\n",
    "model = T5ForConditionalGeneration.from_pretrained(MODEL_ID).to(device)\n",
    "model.eval()"
   ]
  },
  {
   "cell_type": "code",
   "execution_count": 8,
   "metadata": {
    "collapsed": false,
    "jupyter": {
     "outputs_hidden": false
    },
    "pycharm": {
     "name": "#%%\n"
    }
   },
   "outputs": [
    {
     "data": {
      "application/vnd.jupyter.widget-view+json": {
       "model_id": "56b3f48e866943c59b72c11dac862d1b",
       "version_major": 2,
       "version_minor": 0
      },
      "text/plain": [
       "rewriting queries:   0%|          | 0/6980 [00:00<?, ?it/s]"
      ]
     },
     "metadata": {},
     "output_type": "display_data"
    }
   ],
   "source": [
    "# Function to rewrite queries\n",
    "def rewrite_query(query, nsent=1):\n",
    "    input_ids = tokenizer(query, return_tensors=\"pt\").input_ids.to(device)\n",
    "    with torch.no_grad():\n",
    "        output = model.generate(input_ids, max_length=20, num_beams=5, do_sample=False)\n",
    "    return tokenizer.decode(output[0], skip_special_tokens=True)\n",
    "\n",
    "def clean_query(query):\n",
    "    query = query.replace(\"\\n\", \" \").replace(\"\\r\", \" \").replace(\"?\", \"\")\n",
    "    query = query.encode(\"ascii\", \"ignore\").decode()\n",
    "    query = re.sub(r\"[\\\"`]\", \"\", query)\n",
    "    query = re.sub(r\"\\s+\", \" \", query).strip()\n",
    "    query = re.sub(r\"[^\\w\\s]\", \"\", query)\n",
    "    return query\n",
    "\n",
    "queries_unchanged = queries_msmarco[[\"qid\", \"query\"]]#.copy(deep=True)\n",
    "\n",
    "queries_unchanged[\"query\"] = queries_unchanged[\"query\"].apply(clean_query)\n",
    "# queries_antique[\"rewritten_query\"] = queries_antique[\"query\"].apply(rewrite_query).apply(clean_query)\n",
    "\n",
    "queries_msmarco[\"rewritten_query\"] = [\n",
    "    clean_query(rewrite_query(query))\n",
    "    for query in tqdm(queries_msmarco[\"query\"], desc=\"rewriting queries\")\n",
    "]\n"
   ]
  },
  {
   "cell_type": "code",
   "execution_count": 9,
   "metadata": {
    "collapsed": false,
    "jupyter": {
     "outputs_hidden": false
    },
    "pycharm": {
     "name": "#%%\n"
    }
   },
   "outputs": [],
   "source": [
    "bm25_msmarco = pt.terrier.Retriever(index_msmarco, wmodel=\"BM25\")\n"
   ]
  },
  {
   "cell_type": "code",
   "execution_count": 10,
   "metadata": {
    "collapsed": false,
    "jupyter": {
     "outputs_hidden": false
    },
    "pycharm": {
     "name": "#%%\n"
    }
   },
   "outputs": [
    {
     "name": "stdout",
     "output_type": "stream",
     "text": [
      "0    what is paula deens brother\n",
      "Name: query, dtype: object\n",
      "Unchanged queries\n",
      "0    who is paula deens brother\n",
      "Name: query, dtype: object\n",
      "Rewritten queries\n",
      "\n",
      "Results for rewritten queries:\n",
      "+-------------------+---------------------+---------------------+---------------------+\n",
      "|       name        |        RR@10        |       nDCG@20       |         AP          |\n",
      "+-------------------+---------------------+---------------------+---------------------+\n",
      "| TerrierRetr(BM25) | 0.15906268476827234 | 0.21941736655219785 | 0.16683199072530513 |\n",
      "+-------------------+---------------------+---------------------+---------------------+\n"
     ]
    }
   ],
   "source": [
    "print(queries_unchanged['query'].head(1))\n",
    "\n",
    "\n",
    "print(\"Unchanged queries\")\n",
    "\n",
    "\n",
    "# results_unchanged = pt.Experiment(\n",
    "#     [bm25_msmarco],\n",
    "#     queries_unchanged[[\"qid\", \"query\"]],  # Use rewritten queries\n",
    "#     qrels_msmarco,\n",
    "#     eval_metrics=[RR @ 10, nDCG @ 20, MAP],\n",
    "# )\n",
    "queries_msmarco['query'] = queries_msmarco['rewritten_query']\n",
    "print(queries_msmarco['query'].head(1))\n",
    "\n",
    "print(\"Rewritten queries\")\n",
    "\n",
    "results_rewritten = pt.Experiment(\n",
    "    [bm25_msmarco],\n",
    "    queries_msmarco[[\"qid\", \"query\"]],  # Use rewritten queries\n",
    "    qrels_msmarco,\n",
    "    eval_metrics=[RR @ 10, nDCG @ 20, MAP],\n",
    ")\n",
    "\n",
    "\n",
    "from tabulate import tabulate\n",
    "\n",
    "# Optionally, print the results of both experiments using tabulate\n",
    "# print(\"Results for unchanged queries:\")\n",
    "# print(tabulate(results_unchanged, headers='keys', tablefmt='pretty', showindex=False))\n",
    "\n",
    "print(\"\\nResults for rewritten queries:\")\n",
    "print(tabulate(results_rewritten, headers='keys', tablefmt='pretty', showindex=False))"
   ]
  },
  {
   "cell_type": "code",
   "execution_count": 12,
   "metadata": {},
   "outputs": [],
   "source": [
    "# Get first 20 queries\n",
    "queries_unchanged_20 = queries_unchanged.head(20).copy()\n",
    "queries_rewritten_20 = queries_msmarco.head(20).copy()\n",
    "\n",
    "# Run experiments\n",
    "results_unchanged = pt.Experiment(\n",
    "    [bm25_msmarco],\n",
    "    queries_unchanged_20,\n",
    "    qrels_msmarco,\n",
    "    eval_metrics=[RR @ 10, nDCG @ 20, MAP],\n",
    "    perquery=True,\n",
    "\n",
    ")\n",
    "\n",
    "results_rewritten = pt.Experiment(\n",
    "    [bm25_msmarco],\n",
    "    queries_rewritten_20,\n",
    "    qrels_msmarco,\n",
    "    eval_metrics=[RR @ 10, nDCG @ 20, MAP],\n",
    "    perquery=True,\n",
    ")"
   ]
  },
  {
   "cell_type": "code",
   "execution_count": 15,
   "metadata": {},
   "outputs": [
    {
     "name": "stdout",
     "output_type": "stream",
     "text": [
      "Query number 0\n",
      "=== Unchanged Results for qid: 1048585 ===\n",
      "Query: ['what is paula deens brother']\n",
      "                name      qid  measure  value\n",
      "0  TerrierRetr(BM25)  1048585       AP    1.0\n",
      "1  TerrierRetr(BM25)  1048585  nDCG@20    1.0\n",
      "2  TerrierRetr(BM25)  1048585    RR@10    1.0\n",
      "=== Rewritten Results for qid: 1048585 ===\n",
      "Query: ['who is paula deens brother']\n",
      "                name      qid  measure    value\n",
      "0  TerrierRetr(BM25)  1048585       AP  0.50000\n",
      "1  TerrierRetr(BM25)  1048585  nDCG@20  0.63093\n",
      "2  TerrierRetr(BM25)  1048585    RR@10  0.50000\n",
      "\n",
      "\n",
      "Query number 1\n",
      "=== Unchanged Results for qid: 1048642 ===\n",
      "Query: ['what is paranoid sc']\n",
      "                 name      qid  measure     value\n",
      "9   TerrierRetr(BM25)  1048642       AP  0.166667\n",
      "10  TerrierRetr(BM25)  1048642  nDCG@20  0.356207\n",
      "11  TerrierRetr(BM25)  1048642    RR@10  0.250000\n",
      "=== Rewritten Results for qid: 1048642 ===\n",
      "Query: ['paranoid schizophrenia definition']\n",
      "                 name      qid  measure    value\n",
      "9   TerrierRetr(BM25)  1048642       AP  0.50000\n",
      "10  TerrierRetr(BM25)  1048642  nDCG@20  0.63093\n",
      "11  TerrierRetr(BM25)  1048642    RR@10  0.50000\n",
      "\n",
      "\n",
      "Query number 2\n",
      "=== Unchanged Results for qid: 1048876 ===\n",
      "Query: ['who plays young dr mallard on ncis']\n",
      "                 name      qid  measure  value\n",
      "18  TerrierRetr(BM25)  1048876       AP    1.0\n",
      "19  TerrierRetr(BM25)  1048876  nDCG@20    1.0\n",
      "20  TerrierRetr(BM25)  1048876    RR@10    1.0\n",
      "=== Rewritten Results for qid: 1048876 ===\n",
      "Query: ['who plays dr mallard on ncis']\n",
      "                 name      qid  measure  value\n",
      "18  TerrierRetr(BM25)  1048876       AP    1.0\n",
      "19  TerrierRetr(BM25)  1048876  nDCG@20    1.0\n",
      "20  TerrierRetr(BM25)  1048876    RR@10    1.0\n",
      "\n",
      "\n",
      "Query number 3\n",
      "=== Unchanged Results for qid: 1048917 ===\n",
      "Query: ['what is operating system misconfiguration']\n",
      "                 name      qid  measure    value\n",
      "21  TerrierRetr(BM25)  1048917       AP  0.50000\n",
      "22  TerrierRetr(BM25)  1048917  nDCG@20  0.63093\n",
      "23  TerrierRetr(BM25)  1048917    RR@10  0.50000\n",
      "=== Rewritten Results for qid: 1048917 ===\n",
      "Query: ['what is osm misconfiguration']\n",
      "                 name      qid  measure     value\n",
      "21  TerrierRetr(BM25)  1048917       AP  0.015625\n",
      "22  TerrierRetr(BM25)  1048917  nDCG@20  0.000000\n",
      "23  TerrierRetr(BM25)  1048917    RR@10  0.000000\n",
      "\n",
      "\n",
      "Query number 4\n",
      "=== Unchanged Results for qid: 1048995 ===\n",
      "Query: ['who proposed the geocentric theory']\n",
      "                 name      qid  measure     value\n",
      "30  TerrierRetr(BM25)  1048995       AP  0.017241\n",
      "31  TerrierRetr(BM25)  1048995  nDCG@20  0.000000\n",
      "32  TerrierRetr(BM25)  1048995    RR@10  0.000000\n",
      "=== Rewritten Results for qid: 1048995 ===\n",
      "Query: ['who proposed the geocentric theory']\n",
      "                 name      qid  measure     value\n",
      "30  TerrierRetr(BM25)  1048995       AP  0.017241\n",
      "31  TerrierRetr(BM25)  1048995  nDCG@20  0.000000\n",
      "32  TerrierRetr(BM25)  1048995    RR@10  0.000000\n",
      "\n",
      "\n",
      "Query number 5\n",
      "=== Unchanged Results for qid: 1049085 ===\n",
      "Query: ['what is on the outside of dna']\n",
      "                 name      qid  measure  value\n",
      "51  TerrierRetr(BM25)  1049085       AP    0.0\n",
      "52  TerrierRetr(BM25)  1049085  nDCG@20    0.0\n",
      "53  TerrierRetr(BM25)  1049085    RR@10    0.0\n",
      "=== Rewritten Results for qid: 1049085 ===\n",
      "Query: ['what is on the outside of dna is what is on the inside of d']\n",
      "                 name      qid  measure     value\n",
      "51  TerrierRetr(BM25)  1049085       AP  0.003175\n",
      "52  TerrierRetr(BM25)  1049085  nDCG@20  0.000000\n",
      "53  TerrierRetr(BM25)  1049085    RR@10  0.000000\n",
      "\n",
      "\n",
      "Query number 6\n",
      "=== Unchanged Results for qid: 2 ===\n",
      "Query: ['Androgen receptor define']\n",
      "                name qid  measure     value\n",
      "3  TerrierRetr(BM25)   2       AP  0.100000\n",
      "4  TerrierRetr(BM25)   2  nDCG@20  0.289065\n",
      "5  TerrierRetr(BM25)   2    RR@10  0.100000\n",
      "=== Rewritten Results for qid: 2 ===\n",
      "Query: ['androgen receptors are also known as']\n",
      "                name qid  measure  value\n",
      "3  TerrierRetr(BM25)   2       AP    1.0\n",
      "4  TerrierRetr(BM25)   2  nDCG@20    1.0\n",
      "5  TerrierRetr(BM25)   2    RR@10    1.0\n",
      "\n",
      "\n",
      "Query number 7\n",
      "=== Unchanged Results for qid: 262232 ===\n",
      "Query: ['how long is a day on ven']\n",
      "                 name     qid  measure  value\n",
      "54  TerrierRetr(BM25)  262232       AP    0.0\n",
      "55  TerrierRetr(BM25)  262232  nDCG@20    0.0\n",
      "56  TerrierRetr(BM25)  262232    RR@10    0.0\n",
      "=== Rewritten Results for qid: 262232 ===\n",
      "Query: ['how long is a day on ven']\n",
      "                 name     qid  measure  value\n",
      "54  TerrierRetr(BM25)  262232       AP    0.0\n",
      "55  TerrierRetr(BM25)  262232  nDCG@20    0.0\n",
      "56  TerrierRetr(BM25)  262232    RR@10    0.0\n",
      "\n",
      "\n",
      "Query number 8\n",
      "=== Unchanged Results for qid: 524332 ===\n",
      "Query: ['treating tension headaches without medication']\n",
      "                name     qid  measure    value\n",
      "6  TerrierRetr(BM25)  524332       AP  0.00155\n",
      "7  TerrierRetr(BM25)  524332  nDCG@20  0.00000\n",
      "8  TerrierRetr(BM25)  524332    RR@10  0.00000\n",
      "=== Rewritten Results for qid: 524332 ===\n",
      "Query: ['ibuprofen for tension headaches without medication']\n",
      "                name     qid  measure     value\n",
      "6  TerrierRetr(BM25)  524332       AP  0.001621\n",
      "7  TerrierRetr(BM25)  524332  nDCG@20  0.000000\n",
      "8  TerrierRetr(BM25)  524332    RR@10  0.000000\n",
      "\n",
      "\n",
      "Query number 9\n",
      "=== Unchanged Results for qid: 524447 ===\n",
      "Query: ['treatment of varicose veins in legs']\n",
      "                 name     qid  measure     value\n",
      "12  TerrierRetr(BM25)  524447       AP  0.002406\n",
      "13  TerrierRetr(BM25)  524447  nDCG@20  0.000000\n",
      "14  TerrierRetr(BM25)  524447    RR@10  0.000000\n",
      "=== Rewritten Results for qid: 524447 ===\n",
      "Query: ['treatment for varicose veins in legs']\n",
      "                 name     qid  measure     value\n",
      "12  TerrierRetr(BM25)  524447       AP  0.002406\n",
      "13  TerrierRetr(BM25)  524447  nDCG@20  0.000000\n",
      "14  TerrierRetr(BM25)  524447    RR@10  0.000000\n",
      "\n",
      "\n",
      "Query number 10\n",
      "=== Unchanged Results for qid: 524699 ===\n",
      "Query: ['tricare service number']\n",
      "                 name     qid  measure     value\n",
      "27  TerrierRetr(BM25)  524699       AP  0.023256\n",
      "28  TerrierRetr(BM25)  524699  nDCG@20  0.000000\n",
      "29  TerrierRetr(BM25)  524699    RR@10  0.000000\n",
      "=== Rewritten Results for qid: 524699 ===\n",
      "Query: ['tricare tricare tricare tricare tricare tricare']\n",
      "                 name     qid  measure     value\n",
      "27  TerrierRetr(BM25)  524699       AP  0.001502\n",
      "28  TerrierRetr(BM25)  524699  nDCG@20  0.000000\n",
      "29  TerrierRetr(BM25)  524699    RR@10  0.000000\n",
      "\n",
      "\n"
     ]
    }
   ],
   "source": [
    "i = 0\n",
    "for qid in results_unchanged['qid'].unique():\n",
    "    print(\"Query number \" + str(i))\n",
    "    i+=1\n",
    "    # Filter the results for the current qid\n",
    "    unchanged_row = results_unchanged[results_unchanged['qid'] == qid]\n",
    "    rewritten_row = results_rewritten[results_rewritten['qid'] == qid]\n",
    "    queries_unchanged_row = queries_unchanged_20[queries_unchanged_20['qid'] == qid]\n",
    "    queries_rewritten_row = queries_rewritten_20[queries_rewritten_20['qid'] == qid]\n",
    "\n",
    "\n",
    "\n",
    "    # Print results for unchanged\n",
    "    print(\"=== Unchanged Results for qid:\", qid, \"===\")\n",
    "    if not unchanged_row.empty:\n",
    "        print(\"Query:\", queries_unchanged_row['query'].values)  # Print the matching query\n",
    "\n",
    "        print(unchanged_row)\n",
    "    else:\n",
    "        print(\"No results found.\")\n",
    "\n",
    "    # Print results for rewritten\n",
    "    print(\"=== Rewritten Results for qid:\", qid, \"===\")\n",
    "    if not rewritten_row.empty:\n",
    "        print(\"Query:\", queries_rewritten_row['query'].values)  # Print the matching query\n",
    "\n",
    "        print(rewritten_row)\n",
    "    else:\n",
    "        print(\"No results found.\")\n",
    "\n",
    "    print(\"\\n\")  # Add a newline for better separation\n",
    "\n",
    "    if(i > 10):\n",
    "        break"
   ]
  },
  {
   "cell_type": "code",
   "execution_count": null,
   "metadata": {},
   "outputs": [],
   "source": []
  }
 ],
 "metadata": {
  "kernelspec": {
   "display_name": "Python 3 (ipykernel)",
   "language": "python",
   "name": "python3"
  },
  "language_info": {
   "codemirror_mode": {
    "name": "ipython",
    "version": 3
   },
   "file_extension": ".py",
   "mimetype": "text/x-python",
   "name": "python",
   "nbconvert_exporter": "python",
   "pygments_lexer": "ipython3",
   "version": "3.9.13"
  }
 },
 "nbformat": 4,
 "nbformat_minor": 4
}
