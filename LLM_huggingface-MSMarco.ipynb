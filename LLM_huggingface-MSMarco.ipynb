{
 "cells": [
  {
   "cell_type": "code",
   "execution_count": 1,
   "metadata": {
    "pycharm": {
     "name": "#%%\n"
    },
    "scrolled": true
   },
   "outputs": [
    {
     "name": "stdout",
     "output_type": "stream",
     "text": [
      "0.13.0\n"
     ]
    },
    {
     "name": "stderr",
     "output_type": "stream",
     "text": [
      "Java started and loaded: pyterrier.java, pyterrier.terrier.java [version=5.11 (build: craig.macdonald 2025-01-13 21:29), helper_version=0.0.8]\n",
      "C:\\Users\\Scott\\AppData\\Local\\Temp\\ipykernel_3672\\178958555.py:6: DeprecationWarning: Call to deprecated method pt.init(). Deprecated since version 0.11.0.\n",
      "java is now started automatically with default settings. To force initialisation early, run:\n",
      "pt.java.init() # optional, forces java initialisation\n",
      "  pt.init()\n"
     ]
    }
   ],
   "source": [
    "import ir_datasets\n",
    "import tqdm\n",
    "import pyterrier as pt\n",
    "print(pt.__version__)\n",
    "\n",
    "pt.init()\n",
    "from pathlib import Path\n",
    "import re\n",
    "import pandas as pd\n",
    "from pyterrier.measures import RR, nDCG, MAP"
   ]
  },
  {
   "cell_type": "code",
   "execution_count": 2,
   "metadata": {
    "collapsed": false,
    "jupyter": {
     "outputs_hidden": false
    },
    "pycharm": {
     "name": "#%%\n"
    }
   },
   "outputs": [],
   "source": [
    "msmarco = ir_datasets.load(\"msmarco-passage/train/judged\")"
   ]
  },
  {
   "cell_type": "code",
   "execution_count": 3,
   "metadata": {
    "collapsed": false,
    "jupyter": {
     "outputs_hidden": false
    },
    "pycharm": {
     "name": "#%%\n"
    }
   },
   "outputs": [],
   "source": [
    "# OPTIONAL - Index the data\n",
    "\n",
    "idx_path = Path.cwd() / \"indices\" / \"msmarco_train_judged\"\n",
    "\n",
    "def msmarco_gen(limit=100000):\n",
    "    lastdoc = 0\n",
    "    for elem in msmarco.docs:\n",
    "        if lastdoc >= limit:\n",
    "            break\n",
    "        yield {\n",
    "            \"docno\": elem.doc_id,\n",
    "            \"text\": elem.text,\n",
    "        }\n",
    "        lastdoc += 1\n",
    "\n",
    "max(len(text.encode(\"utf-8\")) for _, text in msmarco.docs)\n",
    "\n",
    "if not idx_path.exists() or not any(idx_path.iterdir()):\n",
    "    indexer = pt.IterDictIndexer(\n",
    "        str(idx_path),\n",
    "        meta={\n",
    "            \"docno\": 20,\n",
    "            \"text\": 4096,\n",
    "        },\n",
    "        stemmer=\"porter\",\n",
    "        stopwords=\"terrier\",\n",
    "    )\n",
    "\n",
    "    index_ref = indexer.index(msmarco_gen())\n",
    "else:\n",
    "    print(\"Indices already exist, skipping creation\")"
   ]
  },
  {
   "cell_type": "code",
   "execution_count": 4,
   "metadata": {
    "collapsed": false,
    "jupyter": {
     "outputs_hidden": false
    },
    "pycharm": {
     "name": "#%%\n"
    }
   },
   "outputs": [
    {
     "name": "stderr",
     "output_type": "stream",
     "text": [
      "C:\\Users\\Scott\\AppData\\Local\\Temp\\ipykernel_3672\\3148369561.py:8: DeprecationWarning: Call to deprecated class BatchRetrieve. (use pt.terrier.Retriever() instead) -- Deprecated since version 0.11.0.\n",
      "  retriever_msmarco = pt.BatchRetrieve(index_msmarco, wmodel=\"BM25\")\n"
     ]
    }
   ],
   "source": [
    "# Define index paths\n",
    "index_dir_msmarco = Path.cwd() / \"indices\" / \"msmarco_train_judged\"\n",
    "# Load the indexes\n",
    "index_msmarco = pt.IndexFactory.of(str(index_dir_msmarco))\n",
    "#index_antique = pt.IndexFactory.of(str(index_dir_antique))\n",
    "\n",
    "# Use BM25 as the baseline retriever\n",
    "retriever_msmarco = pt.BatchRetrieve(index_msmarco, wmodel=\"BM25\")\n",
    "#retriever_antique = pt.BatchRetrieve(index_antique, wmodel=\"BM25\")"
   ]
  },
  {
   "cell_type": "code",
   "execution_count": 5,
   "metadata": {
    "collapsed": false,
    "jupyter": {
     "outputs_hidden": false
    },
    "pycharm": {
     "name": "#%%\n"
    }
   },
   "outputs": [],
   "source": [
    "# Convert qrels to DataFrames\n",
    "qrels_msmarco = pd.DataFrame(msmarco.qrels_iter()).head(1000)\n",
    "#qrels_antique = pd.DataFrame(antique.qrels_iter())\n",
    "\n",
    "# Convert queries to DataFrames\n",
    "queries_msmarco = pd.DataFrame(msmarco.queries_iter()).head(1000)\n",
    "#queries_antique = pd.DataFrame(antique.queries_iter())\n",
    "\n",
    "# Rename columns for PyTerrier compatibility\n",
    "qrels_msmarco.rename(columns={\"query_id\": \"qid\", \"doc_id\": \"docno\", \"relevance\": \"label\"}, inplace=True)\n",
    "#qrels_antique.rename(columns={\"query_id\": \"qid\", \"doc_id\": \"docno\", \"relevance\": \"label\"}, inplace=True)\n",
    "\n",
    "queries_msmarco.rename(columns={\"query_id\": \"qid\", \"text\": \"query\"}, inplace=True)\n",
    "#queries_antique.rename(columns={\"query_id\": \"qid\", \"text\": \"query\"}, inplace=True)"
   ]
  },
  {
   "cell_type": "code",
   "execution_count": 6,
   "metadata": {
    "collapsed": false,
    "jupyter": {
     "outputs_hidden": false
    },
    "pycharm": {
     "name": "#%%\n"
    }
   },
   "outputs": [],
   "source": [
    "def clean_query(query):\n",
    "    query = query.encode(\"ascii\", \"ignore\").decode()\n",
    "    query = query.replace(\"'\", \"\").replace('\"', \"\").replace(\"`\", \"\")\n",
    "    query = re.sub(r\"\\s+\", \" \", query).strip()\n",
    "    return query\n",
    "\n",
    "queries_msmarco[\"query\"] = queries_msmarco[\"query\"].apply(clean_query)\n",
    "#queries_antique[\"query\"] = queries_antique[\"query\"].apply(clean_query)"
   ]
  },
  {
   "cell_type": "code",
   "execution_count": 7,
   "metadata": {
    "collapsed": false,
    "jupyter": {
     "outputs_hidden": false
    },
    "pycharm": {
     "name": "#%%\n"
    }
   },
   "outputs": [
    {
     "name": "stderr",
     "output_type": "stream",
     "text": [
      "C:\\Users\\Scott\\AppData\\Local\\Programs\\Python\\Python39\\lib\\site-packages\\tqdm\\auto.py:21: TqdmWarning: IProgress not found. Please update jupyter and ipywidgets. See https://ipywidgets.readthedocs.io/en/stable/user_install.html\n",
      "  from .autonotebook import tqdm as notebook_tqdm\n"
     ]
    },
    {
     "name": "stdout",
     "output_type": "stream",
     "text": [
      "WARNING:tensorflow:From C:\\Users\\Scott\\AppData\\Local\\Programs\\Python\\Python39\\lib\\site-packages\\keras\\src\\losses.py:2976: The name tf.losses.sparse_softmax_cross_entropy is deprecated. Please use tf.compat.v1.losses.sparse_softmax_cross_entropy instead.\n",
      "\n"
     ]
    },
    {
     "data": {
      "text/plain": [
       "T5ForConditionalGeneration(\n",
       "  (shared): Embedding(32128, 768)\n",
       "  (encoder): T5Stack(\n",
       "    (embed_tokens): Embedding(32128, 768)\n",
       "    (block): ModuleList(\n",
       "      (0): T5Block(\n",
       "        (layer): ModuleList(\n",
       "          (0): T5LayerSelfAttention(\n",
       "            (SelfAttention): T5Attention(\n",
       "              (q): Linear(in_features=768, out_features=768, bias=False)\n",
       "              (k): Linear(in_features=768, out_features=768, bias=False)\n",
       "              (v): Linear(in_features=768, out_features=768, bias=False)\n",
       "              (o): Linear(in_features=768, out_features=768, bias=False)\n",
       "              (relative_attention_bias): Embedding(32, 12)\n",
       "            )\n",
       "            (layer_norm): T5LayerNorm()\n",
       "            (dropout): Dropout(p=0.1, inplace=False)\n",
       "          )\n",
       "          (1): T5LayerFF(\n",
       "            (DenseReluDense): T5DenseActDense(\n",
       "              (wi): Linear(in_features=768, out_features=3072, bias=False)\n",
       "              (wo): Linear(in_features=3072, out_features=768, bias=False)\n",
       "              (dropout): Dropout(p=0.1, inplace=False)\n",
       "              (act): ReLU()\n",
       "            )\n",
       "            (layer_norm): T5LayerNorm()\n",
       "            (dropout): Dropout(p=0.1, inplace=False)\n",
       "          )\n",
       "        )\n",
       "      )\n",
       "      (1-11): 11 x T5Block(\n",
       "        (layer): ModuleList(\n",
       "          (0): T5LayerSelfAttention(\n",
       "            (SelfAttention): T5Attention(\n",
       "              (q): Linear(in_features=768, out_features=768, bias=False)\n",
       "              (k): Linear(in_features=768, out_features=768, bias=False)\n",
       "              (v): Linear(in_features=768, out_features=768, bias=False)\n",
       "              (o): Linear(in_features=768, out_features=768, bias=False)\n",
       "            )\n",
       "            (layer_norm): T5LayerNorm()\n",
       "            (dropout): Dropout(p=0.1, inplace=False)\n",
       "          )\n",
       "          (1): T5LayerFF(\n",
       "            (DenseReluDense): T5DenseActDense(\n",
       "              (wi): Linear(in_features=768, out_features=3072, bias=False)\n",
       "              (wo): Linear(in_features=3072, out_features=768, bias=False)\n",
       "              (dropout): Dropout(p=0.1, inplace=False)\n",
       "              (act): ReLU()\n",
       "            )\n",
       "            (layer_norm): T5LayerNorm()\n",
       "            (dropout): Dropout(p=0.1, inplace=False)\n",
       "          )\n",
       "        )\n",
       "      )\n",
       "    )\n",
       "    (final_layer_norm): T5LayerNorm()\n",
       "    (dropout): Dropout(p=0.1, inplace=False)\n",
       "  )\n",
       "  (decoder): T5Stack(\n",
       "    (embed_tokens): Embedding(32128, 768)\n",
       "    (block): ModuleList(\n",
       "      (0): T5Block(\n",
       "        (layer): ModuleList(\n",
       "          (0): T5LayerSelfAttention(\n",
       "            (SelfAttention): T5Attention(\n",
       "              (q): Linear(in_features=768, out_features=768, bias=False)\n",
       "              (k): Linear(in_features=768, out_features=768, bias=False)\n",
       "              (v): Linear(in_features=768, out_features=768, bias=False)\n",
       "              (o): Linear(in_features=768, out_features=768, bias=False)\n",
       "              (relative_attention_bias): Embedding(32, 12)\n",
       "            )\n",
       "            (layer_norm): T5LayerNorm()\n",
       "            (dropout): Dropout(p=0.1, inplace=False)\n",
       "          )\n",
       "          (1): T5LayerCrossAttention(\n",
       "            (EncDecAttention): T5Attention(\n",
       "              (q): Linear(in_features=768, out_features=768, bias=False)\n",
       "              (k): Linear(in_features=768, out_features=768, bias=False)\n",
       "              (v): Linear(in_features=768, out_features=768, bias=False)\n",
       "              (o): Linear(in_features=768, out_features=768, bias=False)\n",
       "            )\n",
       "            (layer_norm): T5LayerNorm()\n",
       "            (dropout): Dropout(p=0.1, inplace=False)\n",
       "          )\n",
       "          (2): T5LayerFF(\n",
       "            (DenseReluDense): T5DenseActDense(\n",
       "              (wi): Linear(in_features=768, out_features=3072, bias=False)\n",
       "              (wo): Linear(in_features=3072, out_features=768, bias=False)\n",
       "              (dropout): Dropout(p=0.1, inplace=False)\n",
       "              (act): ReLU()\n",
       "            )\n",
       "            (layer_norm): T5LayerNorm()\n",
       "            (dropout): Dropout(p=0.1, inplace=False)\n",
       "          )\n",
       "        )\n",
       "      )\n",
       "      (1-11): 11 x T5Block(\n",
       "        (layer): ModuleList(\n",
       "          (0): T5LayerSelfAttention(\n",
       "            (SelfAttention): T5Attention(\n",
       "              (q): Linear(in_features=768, out_features=768, bias=False)\n",
       "              (k): Linear(in_features=768, out_features=768, bias=False)\n",
       "              (v): Linear(in_features=768, out_features=768, bias=False)\n",
       "              (o): Linear(in_features=768, out_features=768, bias=False)\n",
       "            )\n",
       "            (layer_norm): T5LayerNorm()\n",
       "            (dropout): Dropout(p=0.1, inplace=False)\n",
       "          )\n",
       "          (1): T5LayerCrossAttention(\n",
       "            (EncDecAttention): T5Attention(\n",
       "              (q): Linear(in_features=768, out_features=768, bias=False)\n",
       "              (k): Linear(in_features=768, out_features=768, bias=False)\n",
       "              (v): Linear(in_features=768, out_features=768, bias=False)\n",
       "              (o): Linear(in_features=768, out_features=768, bias=False)\n",
       "            )\n",
       "            (layer_norm): T5LayerNorm()\n",
       "            (dropout): Dropout(p=0.1, inplace=False)\n",
       "          )\n",
       "          (2): T5LayerFF(\n",
       "            (DenseReluDense): T5DenseActDense(\n",
       "              (wi): Linear(in_features=768, out_features=3072, bias=False)\n",
       "              (wo): Linear(in_features=3072, out_features=768, bias=False)\n",
       "              (dropout): Dropout(p=0.1, inplace=False)\n",
       "              (act): ReLU()\n",
       "            )\n",
       "            (layer_norm): T5LayerNorm()\n",
       "            (dropout): Dropout(p=0.1, inplace=False)\n",
       "          )\n",
       "        )\n",
       "      )\n",
       "    )\n",
       "    (final_layer_norm): T5LayerNorm()\n",
       "    (dropout): Dropout(p=0.1, inplace=False)\n",
       "  )\n",
       "  (lm_head): Linear(in_features=768, out_features=32128, bias=False)\n",
       ")"
      ]
     },
     "execution_count": 7,
     "metadata": {},
     "output_type": "execute_result"
    }
   ],
   "source": [
    "#Model imports\n",
    "import torch\n",
    "from transformers import T5ForConditionalGeneration, T5Tokenizer\n",
    "\n",
    "# Load the T5 model\n",
    "MODEL_ID = \"prhegde/t5-query-reformulation-RL\"\n",
    "tokenizer = T5Tokenizer.from_pretrained(MODEL_ID)\n",
    "model = T5ForConditionalGeneration.from_pretrained(MODEL_ID)\n",
    "model.eval()\n"
   ]
  },
  {
   "cell_type": "code",
   "execution_count": 8,
   "metadata": {
    "collapsed": false,
    "jupyter": {
     "outputs_hidden": false
    },
    "pycharm": {
     "name": "#%%\n"
    }
   },
   "outputs": [],
   "source": [
    "# Function to rewrite queries\n",
    "def rewrite_query(query, nsent=1):\n",
    "    input_ids = tokenizer(query, return_tensors=\"pt\").input_ids\n",
    "    with torch.no_grad():\n",
    "        output = model.generate(input_ids, max_length=35, num_beams=1, do_sample=True, repetition_penalty=1.8)\n",
    "    return tokenizer.decode(output[0], skip_special_tokens=True)\n",
    "\n",
    "def clean_query(query):\n",
    "    query = query.replace(\"\\n\", \" \").replace(\"\\r\", \" \").replace(\"?\", \"\")\n",
    "    query = query.encode(\"ascii\", \"ignore\").decode()\n",
    "    query = re.sub(r\"[\\\"`]\", \"\", query)\n",
    "    query = re.sub(r\"\\s+\", \" \", query).strip()\n",
    "    query = re.sub(r\"[^\\w\\s]\", \"\", query)\n",
    "    return query\n",
    "\n",
    "queries_msmarco[\"rewritten_query\"] = queries_msmarco[\"query\"].apply(clean_query).apply(rewrite_query).apply(clean_query)\n"
   ]
  },
  {
   "cell_type": "code",
   "execution_count": 9,
   "metadata": {
    "collapsed": false,
    "jupyter": {
     "outputs_hidden": false
    },
    "pycharm": {
     "name": "#%%\n"
    }
   },
   "outputs": [],
   "source": [
    "bm25_msmarco = pt.terrier.Retriever(index_msmarco, wmodel=\"BM25\")\n"
   ]
  },
  {
   "cell_type": "code",
   "execution_count": null,
   "metadata": {
    "collapsed": false,
    "jupyter": {
     "outputs_hidden": false
    },
    "pycharm": {
     "name": "#%%\n"
    }
   },
   "outputs": [],
   "source": [
    "queries_msmarco['query'] = queries_msmarco['rewritten_query']\n",
    "\n",
    "pt.Experiment(\n",
    "    [bm25_msmarco],\n",
    "    queries_msmarco,  # Use rewritten queries\n",
    "    qrels_msmarco,\n",
    "    eval_metrics=[RR @ 10, nDCG @ 20, MAP],\n",
    ")"
   ]
  }
 ],
 "metadata": {
  "kernelspec": {
   "display_name": "Python 3 (ipykernel)",
   "language": "python",
   "name": "python3"
  },
  "language_info": {
   "codemirror_mode": {
    "name": "ipython",
    "version": 3
   },
   "file_extension": ".py",
   "mimetype": "text/x-python",
   "name": "python",
   "nbconvert_exporter": "python",
   "pygments_lexer": "ipython3",
   "version": "3.9.13"
  }
 },
 "nbformat": 4,
 "nbformat_minor": 4
}
