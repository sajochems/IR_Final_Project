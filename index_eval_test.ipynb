{
 "cells": [
  {
   "cell_type": "code",
   "execution_count": 1,
   "metadata": {},
   "outputs": [],
   "source": [
    "import ir_datasets\n",
    "import tqdm\n",
    "import pyterrier as pt\n",
    "from pathlib import Path\n",
    "import re\n",
    "import pandas as pd\n",
    "from pyterrier.measures import RR, nDCG, MAP"
   ]
  },
  {
   "cell_type": "code",
   "execution_count": 2,
   "metadata": {},
   "outputs": [
    {
     "data": {
      "application/vnd.microsoft.datawrangler.viewer.v0+json": {
       "columns": [
        {
         "name": "index",
         "rawType": "int64",
         "type": "integer"
        },
        {
         "name": "dataset",
         "rawType": "object",
         "type": "string"
        },
        {
         "name": "topics",
         "rawType": "object",
         "type": "unknown"
        },
        {
         "name": "topics_lang",
         "rawType": "object",
         "type": "unknown"
        },
        {
         "name": "qrels",
         "rawType": "object",
         "type": "unknown"
        },
        {
         "name": "corpus",
         "rawType": "object",
         "type": "unknown"
        },
        {
         "name": "corpus_lang",
         "rawType": "object",
         "type": "unknown"
        },
        {
         "name": "index",
         "rawType": "object",
         "type": "unknown"
        },
        {
         "name": "info_url",
         "rawType": "object",
         "type": "unknown"
        }
       ],
       "conversionMethod": "pd.DataFrame",
       "ref": "101f67e8-3261-4933-b230-0450d954b26e",
       "rows": [
        [
         "0",
         "50pct",
         "['training', 'validation']",
         "en",
         "['training', 'validation']",
         null,
         null,
         "['ex2', 'ex3']",
         null
        ],
        [
         "1",
         "antique",
         "['train', 'test']",
         "en",
         "['train', 'test']",
         "True",
         "en",
         null,
         "https://ciir.cs.umass.edu/downloads/Antique/readme.txt"
        ],
        [
         "2",
         "vaswani",
         "True",
         "en",
         "True",
         "True",
         "en",
         "True",
         "http://ir.dcs.gla.ac.uk/resources/test_collections/npl/"
        ],
        [
         "3",
         "msmarco_document",
         "['train', 'dev', 'test', 'test-2020', 'leaderboard-2020']",
         "en",
         "['train', 'dev', 'test', 'test-2020']",
         "True",
         "en",
         "True",
         "https://microsoft.github.io/msmarco/"
        ],
        [
         "4",
         "msmarcov2_document",
         "['train', 'dev1', 'dev2', 'valid1', 'valid2', 'trec_2021']",
         "en",
         "['train', 'dev1', 'dev2', 'valid1', 'valid2']",
         null,
         null,
         "True",
         "https://microsoft.github.io/msmarco/TREC-Deep-Learning.html"
        ],
        [
         "5",
         "msmarco_passage",
         "['train', 'dev', 'dev.small', 'eval', 'eval.small', 'test-2019', 'test-2020']",
         "en",
         "['train', 'dev', 'test-2019', 'test-2020', 'dev.small']",
         "True",
         "en",
         "True",
         "https://microsoft.github.io/MSMARCO-Passage-Ranking/"
        ],
        [
         "6",
         "msmarcov2_passage",
         "['train', 'dev1', 'dev2', 'trec_2021']",
         "en",
         "['train', 'dev1', 'dev2']",
         null,
         null,
         "True",
         "https://microsoft.github.io/msmarco/TREC-Deep-Learning.html"
        ],
        [
         "7",
         "trec-robust-2004",
         "True",
         "en",
         "True",
         null,
         null,
         null,
         "https://trec.nist.gov/data/t13_robust.html"
        ],
        [
         "8",
         "trec-robust-2005",
         "True",
         "en",
         "True",
         null,
         null,
         null,
         "https://trec.nist.gov/data/t14_robust.html"
        ],
        [
         "9",
         "trec-terabyte",
         "['2004', '2005', '2006', '2004-2006', '2006-np', '2005-np']",
         "en",
         "['2004', '2005', '2006', '2004-2006', '2005-np', '2006-np']",
         null,
         null,
         null,
         "https://trec.nist.gov/data/terabyte.html"
        ],
        [
         "10",
         "trec-precision-medicine",
         "['2017', '2018', '2019', '2020']",
         "en",
         "['qrels-2017-abstracts', 'qrels-2017-abstracts-sample', 'qrels-2017-trials', 'qrels-2018-abstracts', 'qrels-2018-abstracts-sample', 'qrels-2018-trials', 'qrels-2018-trials-sample', 'qrels-2019-abstracts', 'qrels-2019-trials', 'qrels-2019-abstracts-sample', 'qrels-2019-trials-sample']",
         null,
         null,
         null,
         "https://trec.nist.gov/data/precmed.html"
        ],
        [
         "11",
         "trec-covid",
         "['round1', 'round2', 'round3', 'round4', 'round5']",
         "en",
         "['round1', 'round2', 'round3', 'round3-cumulative', 'round4', 'round4-cumulative', 'round5']",
         "['round4', 'round5']",
         "en",
         "True",
         "https://ir.nist.gov/covidSubmit/"
        ],
        [
         "12",
         "trec-wt2g",
         "True",
         "en",
         "True",
         null,
         null,
         null,
         "https://trec.nist.gov/data/t8.web.html"
        ],
        [
         "13",
         "trec-wt10g",
         "['trec9', 'trec10-adhoc', 'trec10-hp']",
         "en",
         "['trec9', 'trec10-adhoc', 'trec10-hp']",
         null,
         null,
         null,
         "https://trec.nist.gov/data/t9.web.html"
        ],
        [
         "14",
         "trec-wt-2002",
         "['td', 'np']",
         "en",
         "['np', 'td']",
         null,
         null,
         null,
         "https://trec.nist.gov/data/t11.web.html"
        ],
        [
         "15",
         "trec-wt-2003",
         "['td', 'np']",
         "en",
         "['np', 'td']",
         null,
         null,
         null,
         "https://trec.nist.gov/data/t11.web.html"
        ],
        [
         "16",
         "trec-wt-2004",
         "['all', 'np', 'hp', 'td']",
         "en",
         "['hp', 'td', 'np', 'all']",
         null,
         null,
         null,
         "https://trec.nist.gov/data/t13.web.html"
        ],
        [
         "17",
         "trec-wt-2009",
         "True",
         "en",
         "['adhoc', 'adhoc.catA', 'adhoc.catB']",
         null,
         null,
         null,
         "https://trec.nist.gov/data/web09.html"
        ],
        [
         "18",
         "trec-wt-2010",
         "True",
         "en",
         "['adhoc']",
         null,
         null,
         null,
         "https://trec.nist.gov/data/web10.html"
        ],
        [
         "19",
         "trec-wt-2011",
         "True",
         "en",
         "['adhoc']",
         null,
         null,
         null,
         "https://trec.nist.gov/data/web2011.html"
        ],
        [
         "20",
         "trec-wt-2012",
         "True",
         "en",
         "['adhoc']",
         null,
         null,
         null,
         "https://trec.nist.gov/data/web2012.html"
        ],
        [
         "21",
         "irds:antique",
         null,
         null,
         null,
         "True",
         "en",
         null,
         "https://ir-datasets.com/antique.html"
        ],
        [
         "22",
         "irds:antique/test",
         "True",
         "en",
         "True",
         "True",
         "en",
         null,
         "https://ir-datasets.com/antique.html#antique/test"
        ],
        [
         "23",
         "irds:antique/test/non-offensive",
         "True",
         "en",
         "True",
         "True",
         "en",
         null,
         "https://ir-datasets.com/antique.html#antique/test/non-offensive"
        ],
        [
         "24",
         "irds:antique/train",
         "True",
         "en",
         "True",
         "True",
         "en",
         null,
         "https://ir-datasets.com/antique.html#antique/train"
        ],
        [
         "25",
         "irds:antique/train/split200-train",
         "True",
         "en",
         "True",
         "True",
         "en",
         null,
         "https://ir-datasets.com/antique.html#antique/train/split200-train"
        ],
        [
         "26",
         "irds:antique/train/split200-valid",
         "True",
         "en",
         "True",
         "True",
         "en",
         null,
         "https://ir-datasets.com/antique.html#antique/train/split200-valid"
        ],
        [
         "28",
         "irds:aquaint",
         null,
         null,
         null,
         "True",
         "en",
         null,
         "https://ir-datasets.com/aquaint.html"
        ],
        [
         "29",
         "irds:aquaint/trec-robust-2005",
         "['title', 'description', 'narrative']",
         "en",
         "True",
         "True",
         "en",
         null,
         "https://ir-datasets.com/aquaint.html#aquaint/trec-robust-2005"
        ],
        [
         "30",
         "irds:argsme",
         null,
         null,
         null,
         null,
         null,
         null,
         "https://ir-datasets.com/argsme.html"
        ],
        [
         "31",
         "irds:argsme/1.0",
         null,
         null,
         null,
         "True",
         "en",
         null,
         "https://ir-datasets.com/argsme.html#argsme/1.0"
        ],
        [
         "32",
         "irds:argsme/1.0-cleaned",
         null,
         null,
         null,
         "True",
         "en",
         null,
         "https://ir-datasets.com/argsme.html#argsme/1.0-cleaned"
        ],
        [
         "33",
         "irds:argsme/2020-04-01/debateorg",
         null,
         null,
         null,
         "True",
         "en",
         null,
         "https://ir-datasets.com/argsme.html#argsme/2020-04-01/debateorg"
        ],
        [
         "34",
         "irds:argsme/2020-04-01/debatepedia",
         null,
         null,
         null,
         "True",
         "en",
         null,
         "https://ir-datasets.com/argsme.html#argsme/2020-04-01/debatepedia"
        ],
        [
         "35",
         "irds:argsme/2020-04-01/debatewise",
         null,
         null,
         null,
         "True",
         "en",
         null,
         "https://ir-datasets.com/argsme.html#argsme/2020-04-01/debatewise"
        ],
        [
         "36",
         "irds:argsme/2020-04-01/idebate",
         null,
         null,
         null,
         "True",
         "en",
         null,
         "https://ir-datasets.com/argsme.html#argsme/2020-04-01/idebate"
        ],
        [
         "37",
         "irds:argsme/2020-04-01/parliamentary",
         null,
         null,
         null,
         "True",
         "en",
         null,
         "https://ir-datasets.com/argsme.html#argsme/2020-04-01/parliamentary"
        ],
        [
         "38",
         "irds:argsme/2020-04-01/processed",
         null,
         null,
         null,
         "True",
         "en",
         null,
         "https://ir-datasets.com/argsme.html#argsme/2020-04-01/processed"
        ],
        [
         "39",
         "irds:argsme/2020-04-01",
         null,
         null,
         null,
         "True",
         "en",
         null,
         "https://ir-datasets.com/argsme.html#argsme/2020-04-01"
        ],
        [
         "40",
         "irds:beir",
         null,
         null,
         null,
         null,
         null,
         null,
         "https://ir-datasets.com/beir.html"
        ],
        [
         "41",
         "irds:beir/arguana",
         "True",
         "en",
         "True",
         "True",
         "en",
         null,
         "https://ir-datasets.com/beir.html#beir/arguana"
        ],
        [
         "42",
         "irds:beir/climate-fever",
         "True",
         "en",
         "True",
         "True",
         "en",
         null,
         "https://ir-datasets.com/beir.html#beir/climate-fever"
        ],
        [
         "43",
         "irds:beir/cqadupstack/android",
         "['text', 'tags']",
         "en",
         "True",
         "True",
         "en",
         null,
         "https://ir-datasets.com/beir.html#beir/cqadupstack/android"
        ],
        [
         "44",
         "irds:beir/cqadupstack/english",
         "['text', 'tags']",
         "en",
         "True",
         "True",
         "en",
         null,
         "https://ir-datasets.com/beir.html#beir/cqadupstack/english"
        ],
        [
         "45",
         "irds:beir/cqadupstack/gaming",
         "['text', 'tags']",
         "en",
         "True",
         "True",
         "en",
         null,
         "https://ir-datasets.com/beir.html#beir/cqadupstack/gaming"
        ],
        [
         "46",
         "irds:beir/cqadupstack/gis",
         "['text', 'tags']",
         "en",
         "True",
         "True",
         "en",
         null,
         "https://ir-datasets.com/beir.html#beir/cqadupstack/gis"
        ],
        [
         "47",
         "irds:beir/cqadupstack/mathematica",
         "['text', 'tags']",
         "en",
         "True",
         "True",
         "en",
         null,
         "https://ir-datasets.com/beir.html#beir/cqadupstack/mathematica"
        ],
        [
         "48",
         "irds:beir/cqadupstack/physics",
         "['text', 'tags']",
         "en",
         "True",
         "True",
         "en",
         null,
         "https://ir-datasets.com/beir.html#beir/cqadupstack/physics"
        ],
        [
         "49",
         "irds:beir/cqadupstack/programmers",
         "['text', 'tags']",
         "en",
         "True",
         "True",
         "en",
         null,
         "https://ir-datasets.com/beir.html#beir/cqadupstack/programmers"
        ],
        [
         "50",
         "irds:beir/cqadupstack/stats",
         "['text', 'tags']",
         "en",
         "True",
         "True",
         "en",
         null,
         "https://ir-datasets.com/beir.html#beir/cqadupstack/stats"
        ]
       ],
       "shape": {
        "columns": 8,
        "rows": 452
       }
      },
      "text/html": [
       "<div>\n",
       "<style scoped>\n",
       "    .dataframe tbody tr th:only-of-type {\n",
       "        vertical-align: middle;\n",
       "    }\n",
       "\n",
       "    .dataframe tbody tr th {\n",
       "        vertical-align: top;\n",
       "    }\n",
       "\n",
       "    .dataframe thead th {\n",
       "        text-align: right;\n",
       "    }\n",
       "</style>\n",
       "<table border=\"1\" class=\"dataframe\">\n",
       "  <thead>\n",
       "    <tr style=\"text-align: right;\">\n",
       "      <th></th>\n",
       "      <th>dataset</th>\n",
       "      <th>topics</th>\n",
       "      <th>topics_lang</th>\n",
       "      <th>qrels</th>\n",
       "      <th>corpus</th>\n",
       "      <th>corpus_lang</th>\n",
       "      <th>index</th>\n",
       "      <th>info_url</th>\n",
       "    </tr>\n",
       "  </thead>\n",
       "  <tbody>\n",
       "    <tr>\n",
       "      <th>0</th>\n",
       "      <td>50pct</td>\n",
       "      <td>[training, validation]</td>\n",
       "      <td>en</td>\n",
       "      <td>[training, validation]</td>\n",
       "      <td>None</td>\n",
       "      <td>None</td>\n",
       "      <td>[ex2, ex3]</td>\n",
       "      <td>None</td>\n",
       "    </tr>\n",
       "    <tr>\n",
       "      <th>1</th>\n",
       "      <td>antique</td>\n",
       "      <td>[train, test]</td>\n",
       "      <td>en</td>\n",
       "      <td>[train, test]</td>\n",
       "      <td>True</td>\n",
       "      <td>en</td>\n",
       "      <td>None</td>\n",
       "      <td>https://ciir.cs.umass.edu/downloads/Antique/re...</td>\n",
       "    </tr>\n",
       "    <tr>\n",
       "      <th>2</th>\n",
       "      <td>vaswani</td>\n",
       "      <td>True</td>\n",
       "      <td>en</td>\n",
       "      <td>True</td>\n",
       "      <td>True</td>\n",
       "      <td>en</td>\n",
       "      <td>True</td>\n",
       "      <td>http://ir.dcs.gla.ac.uk/resources/test_collect...</td>\n",
       "    </tr>\n",
       "    <tr>\n",
       "      <th>3</th>\n",
       "      <td>msmarco_document</td>\n",
       "      <td>[train, dev, test, test-2020, leaderboard-2020]</td>\n",
       "      <td>en</td>\n",
       "      <td>[train, dev, test, test-2020]</td>\n",
       "      <td>True</td>\n",
       "      <td>en</td>\n",
       "      <td>True</td>\n",
       "      <td>https://microsoft.github.io/msmarco/</td>\n",
       "    </tr>\n",
       "    <tr>\n",
       "      <th>4</th>\n",
       "      <td>msmarcov2_document</td>\n",
       "      <td>[train, dev1, dev2, valid1, valid2, trec_2021]</td>\n",
       "      <td>en</td>\n",
       "      <td>[train, dev1, dev2, valid1, valid2]</td>\n",
       "      <td>None</td>\n",
       "      <td>None</td>\n",
       "      <td>True</td>\n",
       "      <td>https://microsoft.github.io/msmarco/TREC-Deep-...</td>\n",
       "    </tr>\n",
       "    <tr>\n",
       "      <th>...</th>\n",
       "      <td>...</td>\n",
       "      <td>...</td>\n",
       "      <td>...</td>\n",
       "      <td>...</td>\n",
       "      <td>...</td>\n",
       "      <td>...</td>\n",
       "      <td>...</td>\n",
       "      <td>...</td>\n",
       "    </tr>\n",
       "    <tr>\n",
       "      <th>763</th>\n",
       "      <td>irds:neuclir</td>\n",
       "      <td>None</td>\n",
       "      <td>None</td>\n",
       "      <td>None</td>\n",
       "      <td>None</td>\n",
       "      <td>None</td>\n",
       "      <td>None</td>\n",
       "      <td>https://ir-datasets.com/neuclir.html</td>\n",
       "    </tr>\n",
       "    <tr>\n",
       "      <th>764</th>\n",
       "      <td>irds:neuclir/1</td>\n",
       "      <td>None</td>\n",
       "      <td>None</td>\n",
       "      <td>None</td>\n",
       "      <td>None</td>\n",
       "      <td>None</td>\n",
       "      <td>None</td>\n",
       "      <td>https://ir-datasets.com/neuclir.html#neuclir/1</td>\n",
       "    </tr>\n",
       "    <tr>\n",
       "      <th>779</th>\n",
       "      <td>irds:sara</td>\n",
       "      <td>True</td>\n",
       "      <td>en</td>\n",
       "      <td>True</td>\n",
       "      <td>True</td>\n",
       "      <td>en</td>\n",
       "      <td>None</td>\n",
       "      <td>https://ir-datasets.com/sara.html</td>\n",
       "    </tr>\n",
       "    <tr>\n",
       "      <th>780</th>\n",
       "      <td>trec-deep-learning-docs</td>\n",
       "      <td>[train, dev, test, test-2020, leaderboard-2020]</td>\n",
       "      <td>en</td>\n",
       "      <td>[train, dev, test, test-2020]</td>\n",
       "      <td>True</td>\n",
       "      <td>en</td>\n",
       "      <td>True</td>\n",
       "      <td>https://microsoft.github.io/msmarco/</td>\n",
       "    </tr>\n",
       "    <tr>\n",
       "      <th>781</th>\n",
       "      <td>trec-deep-learning-passages</td>\n",
       "      <td>[train, dev, dev.small, eval, eval.small, test...</td>\n",
       "      <td>en</td>\n",
       "      <td>[train, dev, test-2019, test-2020, dev.small]</td>\n",
       "      <td>True</td>\n",
       "      <td>en</td>\n",
       "      <td>True</td>\n",
       "      <td>https://microsoft.github.io/MSMARCO-Passage-Ra...</td>\n",
       "    </tr>\n",
       "  </tbody>\n",
       "</table>\n",
       "<p>452 rows × 8 columns</p>\n",
       "</div>"
      ],
      "text/plain": [
       "                         dataset  \\\n",
       "0                          50pct   \n",
       "1                        antique   \n",
       "2                        vaswani   \n",
       "3               msmarco_document   \n",
       "4             msmarcov2_document   \n",
       "..                           ...   \n",
       "763                 irds:neuclir   \n",
       "764               irds:neuclir/1   \n",
       "779                    irds:sara   \n",
       "780      trec-deep-learning-docs   \n",
       "781  trec-deep-learning-passages   \n",
       "\n",
       "                                                topics topics_lang  \\\n",
       "0                               [training, validation]          en   \n",
       "1                                        [train, test]          en   \n",
       "2                                                 True          en   \n",
       "3      [train, dev, test, test-2020, leaderboard-2020]          en   \n",
       "4       [train, dev1, dev2, valid1, valid2, trec_2021]          en   \n",
       "..                                                 ...         ...   \n",
       "763                                               None        None   \n",
       "764                                               None        None   \n",
       "779                                               True          en   \n",
       "780    [train, dev, test, test-2020, leaderboard-2020]          en   \n",
       "781  [train, dev, dev.small, eval, eval.small, test...          en   \n",
       "\n",
       "                                             qrels corpus corpus_lang  \\\n",
       "0                           [training, validation]   None        None   \n",
       "1                                    [train, test]   True          en   \n",
       "2                                             True   True          en   \n",
       "3                    [train, dev, test, test-2020]   True          en   \n",
       "4              [train, dev1, dev2, valid1, valid2]   None        None   \n",
       "..                                             ...    ...         ...   \n",
       "763                                           None   None        None   \n",
       "764                                           None   None        None   \n",
       "779                                           True   True          en   \n",
       "780                  [train, dev, test, test-2020]   True          en   \n",
       "781  [train, dev, test-2019, test-2020, dev.small]   True          en   \n",
       "\n",
       "          index                                           info_url  \n",
       "0    [ex2, ex3]                                               None  \n",
       "1          None  https://ciir.cs.umass.edu/downloads/Antique/re...  \n",
       "2          True  http://ir.dcs.gla.ac.uk/resources/test_collect...  \n",
       "3          True               https://microsoft.github.io/msmarco/  \n",
       "4          True  https://microsoft.github.io/msmarco/TREC-Deep-...  \n",
       "..          ...                                                ...  \n",
       "763        None               https://ir-datasets.com/neuclir.html  \n",
       "764        None     https://ir-datasets.com/neuclir.html#neuclir/1  \n",
       "779        None                  https://ir-datasets.com/sara.html  \n",
       "780        True               https://microsoft.github.io/msmarco/  \n",
       "781        True  https://microsoft.github.io/MSMARCO-Passage-Ra...  \n",
       "\n",
       "[452 rows x 8 columns]"
      ]
     },
     "execution_count": 2,
     "metadata": {},
     "output_type": "execute_result"
    }
   ],
   "source": [
    "pt.datasets.list_datasets()"
   ]
  },
  {
   "cell_type": "code",
   "execution_count": 3,
   "metadata": {},
   "outputs": [],
   "source": [
    "# Load datasets\n",
    "msmarco = ir_datasets.load(\"msmarco-passage/train\")\n",
    "antique = ir_datasets.load(\"antique/test\")"
   ]
  },
  {
   "cell_type": "code",
   "execution_count": 4,
   "metadata": {},
   "outputs": [
    {
     "name": "stdout",
     "output_type": "stream",
     "text": [
      "Dataset(id='msmarco-passage/train', provides=['docs', 'queries', 'qrels', 'scoreddocs', 'docpairs'])\n"
     ]
    }
   ],
   "source": [
    "print(msmarco)"
   ]
  },
  {
   "cell_type": "code",
   "execution_count": 5,
   "metadata": {},
   "outputs": [
    {
     "name": "stdout",
     "output_type": "stream",
     "text": [
      "<ir_datasets.indices.lz4_pickle.Lz4PickleIter object at 0x0000017FF7F3E750>\n"
     ]
    }
   ],
   "source": [
    "print(msmarco.docs[:10])"
   ]
  },
  {
   "cell_type": "code",
   "execution_count": 6,
   "metadata": {},
   "outputs": [],
   "source": [
    "def msmarco_gen(limit=100000):\n",
    "    lastdoc = 0\n",
    "    for elem in msmarco.docs:\n",
    "        if lastdoc >= limit:\n",
    "            break\n",
    "        yield {\n",
    "            \"docno\": elem.doc_id,\n",
    "            \"text\": elem.text,\n",
    "        }\n",
    "        lastdoc += 1"
   ]
  },
  {
   "cell_type": "code",
   "execution_count": 7,
   "metadata": {},
   "outputs": [
    {
     "data": {
      "text/plain": [
       "1669"
      ]
     },
     "execution_count": 7,
     "metadata": {},
     "output_type": "execute_result"
    }
   ],
   "source": [
    "max(len(text.encode(\"utf-8\")) for _, text in msmarco.docs)"
   ]
  },
  {
   "cell_type": "code",
   "execution_count": 8,
   "metadata": {},
   "outputs": [
    {
     "name": "stderr",
     "output_type": "stream",
     "text": [
      "Java started (triggered by TerrierIndexer.__init__) and loaded: pyterrier.java, pyterrier.terrier.java [version=5.11 (build: craig.macdonald 2025-01-13 21:29), helper_version=0.0.8]\n"
     ]
    }
   ],
   "source": [
    "idx_path = Path.cwd() / \"indices\" / \"msmarco_test\"\n",
    "indexer = pt.IterDictIndexer(\n",
    "    str(idx_path),\n",
    "    meta={\n",
    "        \"docno\": 20,\n",
    "        \"text\": 4096,\n",
    "    },\n",
    "    stemmer=\"porter\",\n",
    "    stopwords=\"terrier\",\n",
    ")"
   ]
  },
  {
   "cell_type": "code",
   "execution_count": 9,
   "metadata": {},
   "outputs": [],
   "source": [
    "# Dont run this cell if you have already indexed the data\n",
    "# index_ref = indexer.index(msmarco_gen())"
   ]
  },
  {
   "cell_type": "code",
   "execution_count": 10,
   "metadata": {},
   "outputs": [
    {
     "name": "stdout",
     "output_type": "stream",
     "text": [
      "GenericDoc(doc_id='2020338_0', text=\"A small group of politicians believed strongly that the fact that Saddam Hussien remained in power after the first Gulf War was a signal of weakness to the rest of the world, one that invited attacks and terrorism. Shortly after taking power with George Bush in 2000 and after the attack on 9/11, they were able to use the terrorist attacks to justify war with Iraq on this basis and exaggerated threats of the development of weapons of mass destruction. The military strength of the U.S. and the brutality of Saddam's regime led them to imagine that the military and political victory would be relatively easy.\")\n"
     ]
    }
   ],
   "source": [
    "print(antique.docs[0])"
   ]
  },
  {
   "cell_type": "code",
   "execution_count": 11,
   "metadata": {},
   "outputs": [],
   "source": [
    "def antique_gen(limit=100000):\n",
    "    lastdoc = 0\n",
    "    for elem in antique.docs:\n",
    "        if lastdoc >= limit:\n",
    "            break\n",
    "        yield {\n",
    "            \"docno\": elem.doc_id,\n",
    "            \"text\": elem.text,\n",
    "        }\n",
    "        lastdoc += 1"
   ]
  },
  {
   "cell_type": "code",
   "execution_count": 12,
   "metadata": {},
   "outputs": [
    {
     "data": {
      "text/plain": [
       "4000"
      ]
     },
     "execution_count": 12,
     "metadata": {},
     "output_type": "execute_result"
    }
   ],
   "source": [
    "max(len(text.encode(\"utf-8\")) for _, text in antique.docs)"
   ]
  },
  {
   "cell_type": "code",
   "execution_count": 13,
   "metadata": {},
   "outputs": [],
   "source": [
    "idx_path = Path.cwd() / \"indices\" / \"antique_test\"\n",
    "indexer = pt.IterDictIndexer(\n",
    "    str(idx_path),\n",
    "    meta={\n",
    "        \"docno\": 20,\n",
    "        \"text\": 4096,\n",
    "    },\n",
    "    stemmer=\"porter\",\n",
    "    stopwords=\"terrier\",\n",
    ")"
   ]
  },
  {
   "cell_type": "code",
   "execution_count": 14,
   "metadata": {},
   "outputs": [],
   "source": [
    "# Don't run this cell if you have already indexed the data\n",
    "# index_ref = indexer.index(antique_gen())"
   ]
  },
  {
   "cell_type": "code",
   "execution_count": 15,
   "metadata": {},
   "outputs": [
    {
     "name": "stderr",
     "output_type": "stream",
     "text": [
      "C:\\Users\\claud\\AppData\\Local\\Temp\\ipykernel_19860\\3444506707.py:10: DeprecationWarning: Call to deprecated class BatchRetrieve. (use pt.terrier.Retriever() instead) -- Deprecated since version 0.11.0.\n",
      "  retriever_msmarco = pt.BatchRetrieve(index_msmarco, wmodel=\"BM25\")\n",
      "C:\\Users\\claud\\AppData\\Local\\Temp\\ipykernel_19860\\3444506707.py:11: DeprecationWarning: Call to deprecated class BatchRetrieve. (use pt.terrier.Retriever() instead) -- Deprecated since version 0.11.0.\n",
      "  retriever_antique = pt.BatchRetrieve(index_antique, wmodel=\"BM25\")\n"
     ]
    }
   ],
   "source": [
    "# Define index paths\n",
    "index_dir_msmarco = Path.cwd() / \"indices\" / \"msmarco_test\"\n",
    "index_dir_antique = Path.cwd() / \"indices\" / \"antique_test\"\n",
    "\n",
    "# Load the indexes\n",
    "index_msmarco = pt.IndexFactory.of(str(index_dir_msmarco))\n",
    "index_antique = pt.IndexFactory.of(str(index_dir_antique))\n",
    "\n",
    "# Use BM25 as the baseline retriever\n",
    "retriever_msmarco = pt.BatchRetrieve(index_msmarco, wmodel=\"BM25\")\n",
    "retriever_antique = pt.BatchRetrieve(index_antique, wmodel=\"BM25\")"
   ]
  },
  {
   "cell_type": "code",
   "execution_count": 16,
   "metadata": {},
   "outputs": [],
   "source": [
    "# Convert qrels to DataFrames\n",
    "qrels_msmarco = pd.DataFrame(msmarco.qrels_iter())\n",
    "qrels_antique = pd.DataFrame(antique.qrels_iter())\n",
    "\n",
    "# Convert queries to DataFrames\n",
    "queries_msmarco = pd.DataFrame(msmarco.queries_iter())\n",
    "queries_antique = pd.DataFrame(antique.queries_iter())\n",
    "\n",
    "# Rename columns for PyTerrier compatibility\n",
    "qrels_msmarco.rename(columns={\"query_id\": \"qid\", \"doc_id\": \"docno\", \"relevance\": \"label\"}, inplace=True)\n",
    "qrels_antique.rename(columns={\"query_id\": \"qid\", \"doc_id\": \"docno\", \"relevance\": \"label\"}, inplace=True)\n",
    "\n",
    "queries_msmarco.rename(columns={\"query_id\": \"qid\", \"text\": \"query\"}, inplace=True)\n",
    "queries_antique.rename(columns={\"query_id\": \"qid\", \"text\": \"query\"}, inplace=True)"
   ]
  },
  {
   "cell_type": "code",
   "execution_count": null,
   "metadata": {},
   "outputs": [],
   "source": [
    "def clean_query(query):\n",
    "    query = query.encode(\"ascii\", \"ignore\").decode()\n",
    "    query = query.replace(\"'\", \"\").replace('\"', \"\").replace(\"`\", \"\")\n",
    "    query = re.sub(r\"\\s+\", \" \", query).strip()\n",
    "    return query\n",
    "\n",
    "queries_msmarco[\"query\"] = queries_msmarco[\"query\"].apply(clean_query)\n",
    "queries_antique[\"query\"] = queries_antique[\"query\"].apply(clean_query)"
   ]
  },
  {
   "cell_type": "code",
   "execution_count": 18,
   "metadata": {},
   "outputs": [
    {
     "data": {
      "application/vnd.microsoft.datawrangler.viewer.v0+json": {
       "columns": [
        {
         "name": "index",
         "rawType": "int64",
         "type": "integer"
        },
        {
         "name": "qid",
         "rawType": "object",
         "type": "string"
        },
        {
         "name": "query",
         "rawType": "object",
         "type": "string"
        }
       ],
       "conversionMethod": "pd.DataFrame",
       "ref": "251c1916-65d1-4204-9b17-ebc634398083",
       "rows": [
        [
         "0",
         "121352",
         "define extreme"
        ],
        [
         "1",
         "634306",
         "what does chattel mean on credit history"
        ],
        [
         "2",
         "920825",
         "what was the great leap forward brainly"
        ],
        [
         "3",
         "510633",
         "tattoo fixers how much does it cost"
        ],
        [
         "4",
         "737889",
         "what is decentralization process."
        ],
        [
         "5",
         "278900",
         "how many cars enter the la jolla concours d elegance?"
        ],
        [
         "6",
         "674172",
         "what is a bank transit number"
        ],
        [
         "7",
         "303205",
         "how much can i contribute to nondeductible ira"
        ],
        [
         "8",
         "570009",
         "what are the four major groups of elements"
        ],
        [
         "9",
         "492875",
         "sanitizer temperature"
        ],
        [
         "10",
         "54528",
         "blood clots in urine after menopause"
        ],
        [
         "11",
         "203218",
         "highmark address"
        ],
        [
         "12",
         "473204",
         "per sf cost in california for tenant build out"
        ],
        [
         "13",
         "738368",
         "what is delta in2ition"
        ],
        [
         "14",
         "507001",
         "symptoms of an enlarged heart in dogs"
        ],
        [
         "15",
         "466926",
         "number of times congress voted to repeal aca"
        ],
        [
         "16",
         "837327",
         "what is the official color of army rank stripes"
        ],
        [
         "17",
         "406897",
         "is colostrum beneficial for 3 week old calves"
        ],
        [
         "18",
         "1181095",
         "how is a behavioral crisis defined?"
        ],
        [
         "19",
         "224811",
         "how does a firefly light up"
        ],
        [
         "20",
         "730323",
         "what is choice warranty plus"
        ],
        [
         "21",
         "265218",
         "how long is the screening process at uic dental school"
        ],
        [
         "22",
         "918533",
         "what was introduced to the human diet in what year"
        ],
        [
         "23",
         "143302",
         "did animal planet cancel the zoo?"
        ],
        [
         "24",
         "479951",
         "pretty woman what shoes was she wearing at the polo match with the brown polka dot dress"
        ],
        [
         "25",
         "940088",
         "when did north carolina join ifta"
        ],
        [
         "26",
         "422912",
         "is rv antifreeze toxic to dogs"
        ],
        [
         "27",
         "80926",
         "can you use wallapop on your computer"
        ],
        [
         "28",
         "350732",
         "how to clean stained melamine cups"
        ],
        [
         "29",
         "1067511",
         "why does my lateral collateral ligament hurt"
        ],
        [
         "30",
         "906071",
         "what to add to your water to be healthier"
        ],
        [
         "31",
         "628391",
         "what does a carrier 58ctw cost"
        ],
        [
         "32",
         "385906",
         "how to verify tax clearance certificate"
        ],
        [
         "33",
         "428191",
         "is there a generic for ciprodex ear drops"
        ],
        [
         "34",
         "790457",
         "what is reinforced mesh"
        ],
        [
         "35",
         "1067371",
         "why does my car sputter when it rains"
        ],
        [
         "36",
         "242081",
         "how long can i freeze pork"
        ],
        [
         "37",
         "1006418",
         "which cal state schools have football teams"
        ],
        [
         "38",
         "843270",
         "what is the rarest form of iron"
        ],
        [
         "39",
         "551231",
         "what age does pediatrics go up to"
        ],
        [
         "40",
         "166621",
         "does gasoline come from natural gas"
        ],
        [
         "41",
         "490462",
         "routing number hdfc"
        ],
        [
         "42",
         "316859",
         "how much does it cost to screen in a window"
        ],
        [
         "43",
         "45248",
         "average temperature in london in august in celsius"
        ],
        [
         "44",
         "1176220",
         "average temperatures barcelona israel"
        ],
        [
         "45",
         "540340",
         "was lillian wald a nursing theorist"
        ],
        [
         "46",
         "867974",
         "what kind of enzymes produces the streptomyces janthinus?"
        ],
        [
         "47",
         "529604",
         "types of roof lines"
        ],
        [
         "48",
         "439538",
         "lewisville texas is in what county"
        ],
        [
         "49",
         "436798",
         "largest laser cutter in the world"
        ]
       ],
       "shape": {
        "columns": 2,
        "rows": 808731
       }
      },
      "text/html": [
       "<div>\n",
       "<style scoped>\n",
       "    .dataframe tbody tr th:only-of-type {\n",
       "        vertical-align: middle;\n",
       "    }\n",
       "\n",
       "    .dataframe tbody tr th {\n",
       "        vertical-align: top;\n",
       "    }\n",
       "\n",
       "    .dataframe thead th {\n",
       "        text-align: right;\n",
       "    }\n",
       "</style>\n",
       "<table border=\"1\" class=\"dataframe\">\n",
       "  <thead>\n",
       "    <tr style=\"text-align: right;\">\n",
       "      <th></th>\n",
       "      <th>qid</th>\n",
       "      <th>query</th>\n",
       "    </tr>\n",
       "  </thead>\n",
       "  <tbody>\n",
       "    <tr>\n",
       "      <th>0</th>\n",
       "      <td>121352</td>\n",
       "      <td>define extreme</td>\n",
       "    </tr>\n",
       "    <tr>\n",
       "      <th>1</th>\n",
       "      <td>634306</td>\n",
       "      <td>what does chattel mean on credit history</td>\n",
       "    </tr>\n",
       "    <tr>\n",
       "      <th>2</th>\n",
       "      <td>920825</td>\n",
       "      <td>what was the great leap forward brainly</td>\n",
       "    </tr>\n",
       "    <tr>\n",
       "      <th>3</th>\n",
       "      <td>510633</td>\n",
       "      <td>tattoo fixers how much does it cost</td>\n",
       "    </tr>\n",
       "    <tr>\n",
       "      <th>4</th>\n",
       "      <td>737889</td>\n",
       "      <td>what is decentralization process.</td>\n",
       "    </tr>\n",
       "    <tr>\n",
       "      <th>...</th>\n",
       "      <td>...</td>\n",
       "      <td>...</td>\n",
       "    </tr>\n",
       "    <tr>\n",
       "      <th>808726</th>\n",
       "      <td>633855</td>\n",
       "      <td>what does canada post regulations mean</td>\n",
       "    </tr>\n",
       "    <tr>\n",
       "      <th>808727</th>\n",
       "      <td>1059728</td>\n",
       "      <td>wholesale lularoe price</td>\n",
       "    </tr>\n",
       "    <tr>\n",
       "      <th>808728</th>\n",
       "      <td>210839</td>\n",
       "      <td>how can i watch the day after</td>\n",
       "    </tr>\n",
       "    <tr>\n",
       "      <th>808729</th>\n",
       "      <td>908165</td>\n",
       "      <td>what to use instead of pgp in windows</td>\n",
       "    </tr>\n",
       "    <tr>\n",
       "      <th>808730</th>\n",
       "      <td>50393</td>\n",
       "      <td>benefits of boiling lemons and drinking juice.</td>\n",
       "    </tr>\n",
       "  </tbody>\n",
       "</table>\n",
       "<p>808731 rows × 2 columns</p>\n",
       "</div>"
      ],
      "text/plain": [
       "            qid                                           query\n",
       "0        121352                                  define extreme\n",
       "1        634306        what does chattel mean on credit history\n",
       "2        920825         what was the great leap forward brainly\n",
       "3        510633             tattoo fixers how much does it cost\n",
       "4        737889               what is decentralization process.\n",
       "...         ...                                             ...\n",
       "808726   633855          what does canada post regulations mean\n",
       "808727  1059728                         wholesale lularoe price\n",
       "808728   210839                   how can i watch the day after\n",
       "808729   908165           what to use instead of pgp in windows\n",
       "808730    50393  benefits of boiling lemons and drinking juice.\n",
       "\n",
       "[808731 rows x 2 columns]"
      ]
     },
     "execution_count": 18,
     "metadata": {},
     "output_type": "execute_result"
    }
   ],
   "source": [
    "queries_msmarco"
   ]
  },
  {
   "cell_type": "code",
   "execution_count": 19,
   "metadata": {},
   "outputs": [
    {
     "data": {
      "application/vnd.microsoft.datawrangler.viewer.v0+json": {
       "columns": [
        {
         "name": "index",
         "rawType": "int64",
         "type": "integer"
        },
        {
         "name": "qid",
         "rawType": "object",
         "type": "string"
        },
        {
         "name": "docno",
         "rawType": "object",
         "type": "string"
        },
        {
         "name": "label",
         "rawType": "int64",
         "type": "integer"
        },
        {
         "name": "iteration",
         "rawType": "object",
         "type": "string"
        }
       ],
       "conversionMethod": "pd.DataFrame",
       "ref": "a0e5a0e7-d17a-419d-9266-7a36684e620a",
       "rows": [
        [
         "0",
         "1185869",
         "0",
         "1",
         "0"
        ],
        [
         "1",
         "1185868",
         "16",
         "1",
         "0"
        ],
        [
         "2",
         "597651",
         "49",
         "1",
         "0"
        ],
        [
         "3",
         "403613",
         "60",
         "1",
         "0"
        ],
        [
         "4",
         "1183785",
         "389",
         "1",
         "0"
        ],
        [
         "5",
         "312651",
         "616",
         "1",
         "0"
        ],
        [
         "6",
         "80385",
         "723",
         "1",
         "0"
        ],
        [
         "7",
         "645590",
         "944",
         "1",
         "0"
        ],
        [
         "8",
         "645337",
         "1054",
         "1",
         "0"
        ],
        [
         "9",
         "186154",
         "1160",
         "1",
         "0"
        ],
        [
         "10",
         "457407",
         "1172",
         "1",
         "0"
        ],
        [
         "11",
         "441383",
         "1389",
         "1",
         "0"
        ],
        [
         "12",
         "683408",
         "1605",
         "1",
         "0"
        ],
        [
         "13",
         "1164799",
         "1713",
         "1",
         "0"
        ],
        [
         "14",
         "484187",
         "1822",
         "1",
         "0"
        ],
        [
         "15",
         "460668",
         "1939",
         "1",
         "0"
        ],
        [
         "16",
         "666321",
         "2152",
         "1",
         "0"
        ],
        [
         "17",
         "182487",
         "2277",
         "1",
         "0"
        ],
        [
         "18",
         "564233",
         "2488",
         "1",
         "0"
        ],
        [
         "19",
         "455279",
         "2599",
         "1",
         "0"
        ],
        [
         "20",
         "208108",
         "2704",
         "1",
         "0"
        ],
        [
         "21",
         "733739",
         "2816",
         "1",
         "0"
        ],
        [
         "22",
         "1164798",
         "2924",
         "1",
         "0"
        ],
        [
         "23",
         "402608",
         "3036",
         "1",
         "0"
        ],
        [
         "24",
         "443797",
         "3146",
         "1",
         "0"
        ],
        [
         "25",
         "662502",
         "3257",
         "1",
         "0"
        ],
        [
         "26",
         "1184679",
         "3368",
         "1",
         "0"
        ],
        [
         "27",
         "14562",
         "3382",
         "1",
         "0"
        ],
        [
         "28",
         "602162",
         "3597",
         "1",
         "0"
        ],
        [
         "29",
         "545059",
         "3702",
         "1",
         "0"
        ],
        [
         "30",
         "708236",
         "3815",
         "1",
         "0"
        ],
        [
         "31",
         "310130",
         "3923",
         "1",
         "0"
        ],
        [
         "32",
         "693161",
         "4029",
         "1",
         "0"
        ],
        [
         "33",
         "186617",
         "4251",
         "1",
         "0"
        ],
        [
         "34",
         "573027",
         "4360",
         "1",
         "0"
        ],
        [
         "35",
         "1173772",
         "4462",
         "1",
         "0"
        ],
        [
         "36",
         "541973",
         "4583",
         "1",
         "0"
        ],
        [
         "37",
         "273090",
         "4698",
         "1",
         "0"
        ],
        [
         "38",
         "441269",
         "4809",
         "1",
         "0"
        ],
        [
         "39",
         "642237",
         "4918",
         "1",
         "0"
        ],
        [
         "40",
         "503515",
         "5025",
         "1",
         "0"
        ],
        [
         "41",
         "637443",
         "5250",
         "1",
         "0"
        ],
        [
         "42",
         "1164796",
         "5359",
         "1",
         "0"
        ],
        [
         "43",
         "749988",
         "5469",
         "1",
         "0"
        ],
        [
         "44",
         "749988",
         "5470",
         "1",
         "0"
        ],
        [
         "45",
         "135841",
         "5585",
         "1",
         "0"
        ],
        [
         "46",
         "295446",
         "6021",
         "1",
         "0"
        ],
        [
         "47",
         "653051",
         "6127",
         "1",
         "0"
        ],
        [
         "48",
         "691147",
         "6236",
         "1",
         "0"
        ],
        [
         "49",
         "410621",
         "6458",
         "1",
         "0"
        ]
       ],
       "shape": {
        "columns": 4,
        "rows": 532761
       }
      },
      "text/html": [
       "<div>\n",
       "<style scoped>\n",
       "    .dataframe tbody tr th:only-of-type {\n",
       "        vertical-align: middle;\n",
       "    }\n",
       "\n",
       "    .dataframe tbody tr th {\n",
       "        vertical-align: top;\n",
       "    }\n",
       "\n",
       "    .dataframe thead th {\n",
       "        text-align: right;\n",
       "    }\n",
       "</style>\n",
       "<table border=\"1\" class=\"dataframe\">\n",
       "  <thead>\n",
       "    <tr style=\"text-align: right;\">\n",
       "      <th></th>\n",
       "      <th>qid</th>\n",
       "      <th>docno</th>\n",
       "      <th>label</th>\n",
       "      <th>iteration</th>\n",
       "    </tr>\n",
       "  </thead>\n",
       "  <tbody>\n",
       "    <tr>\n",
       "      <th>0</th>\n",
       "      <td>1185869</td>\n",
       "      <td>0</td>\n",
       "      <td>1</td>\n",
       "      <td>0</td>\n",
       "    </tr>\n",
       "    <tr>\n",
       "      <th>1</th>\n",
       "      <td>1185868</td>\n",
       "      <td>16</td>\n",
       "      <td>1</td>\n",
       "      <td>0</td>\n",
       "    </tr>\n",
       "    <tr>\n",
       "      <th>2</th>\n",
       "      <td>597651</td>\n",
       "      <td>49</td>\n",
       "      <td>1</td>\n",
       "      <td>0</td>\n",
       "    </tr>\n",
       "    <tr>\n",
       "      <th>3</th>\n",
       "      <td>403613</td>\n",
       "      <td>60</td>\n",
       "      <td>1</td>\n",
       "      <td>0</td>\n",
       "    </tr>\n",
       "    <tr>\n",
       "      <th>4</th>\n",
       "      <td>1183785</td>\n",
       "      <td>389</td>\n",
       "      <td>1</td>\n",
       "      <td>0</td>\n",
       "    </tr>\n",
       "    <tr>\n",
       "      <th>...</th>\n",
       "      <td>...</td>\n",
       "      <td>...</td>\n",
       "      <td>...</td>\n",
       "      <td>...</td>\n",
       "    </tr>\n",
       "    <tr>\n",
       "      <th>532756</th>\n",
       "      <td>19285</td>\n",
       "      <td>8841362</td>\n",
       "      <td>1</td>\n",
       "      <td>0</td>\n",
       "    </tr>\n",
       "    <tr>\n",
       "      <th>532757</th>\n",
       "      <td>558837</td>\n",
       "      <td>4989159</td>\n",
       "      <td>1</td>\n",
       "      <td>0</td>\n",
       "    </tr>\n",
       "    <tr>\n",
       "      <th>532758</th>\n",
       "      <td>559149</td>\n",
       "      <td>8841547</td>\n",
       "      <td>1</td>\n",
       "      <td>0</td>\n",
       "    </tr>\n",
       "    <tr>\n",
       "      <th>532759</th>\n",
       "      <td>706678</td>\n",
       "      <td>8841643</td>\n",
       "      <td>1</td>\n",
       "      <td>0</td>\n",
       "    </tr>\n",
       "    <tr>\n",
       "      <th>532760</th>\n",
       "      <td>405466</td>\n",
       "      <td>8841735</td>\n",
       "      <td>1</td>\n",
       "      <td>0</td>\n",
       "    </tr>\n",
       "  </tbody>\n",
       "</table>\n",
       "<p>532761 rows × 4 columns</p>\n",
       "</div>"
      ],
      "text/plain": [
       "            qid    docno  label iteration\n",
       "0       1185869        0      1         0\n",
       "1       1185868       16      1         0\n",
       "2        597651       49      1         0\n",
       "3        403613       60      1         0\n",
       "4       1183785      389      1         0\n",
       "...         ...      ...    ...       ...\n",
       "532756    19285  8841362      1         0\n",
       "532757   558837  4989159      1         0\n",
       "532758   559149  8841547      1         0\n",
       "532759   706678  8841643      1         0\n",
       "532760   405466  8841735      1         0\n",
       "\n",
       "[532761 rows x 4 columns]"
      ]
     },
     "execution_count": 19,
     "metadata": {},
     "output_type": "execute_result"
    }
   ],
   "source": [
    "qrels_msmarco"
   ]
  },
  {
   "cell_type": "code",
   "execution_count": 20,
   "metadata": {},
   "outputs": [],
   "source": [
    "bm25_marco = pt.terrier.Retriever(index_msmarco, wmodel=\"BM25\")\n",
    "bm25_antique = pt.terrier.Retriever(index_antique, wmodel=\"BM25\")"
   ]
  },
  {
   "cell_type": "code",
   "execution_count": 21,
   "metadata": {},
   "outputs": [
    {
     "ename": "JavaException",
     "evalue": "JVM exception occurred: Failed to process qid 278900 'how many cars enter the la jolla concours d elegance?' -- Lexical error at line 1, column 54.  Encountered: <EOF> after : \"\" org.terrier.querying.parser.QueryParserException",
     "output_type": "error",
     "traceback": [
      "\u001b[31m---------------------------------------------------------------------------\u001b[39m",
      "\u001b[31mJavaException\u001b[39m                             Traceback (most recent call last)",
      "\u001b[36mCell\u001b[39m\u001b[36m \u001b[39m\u001b[32mIn[21]\u001b[39m\u001b[32m, line 1\u001b[39m\n\u001b[32m----> \u001b[39m\u001b[32m1\u001b[39m \u001b[43mpt\u001b[49m\u001b[43m.\u001b[49m\u001b[43mExperiment\u001b[49m\u001b[43m(\u001b[49m\n\u001b[32m      2\u001b[39m \u001b[43m    \u001b[49m\u001b[43m[\u001b[49m\u001b[43mbm25_marco\u001b[49m\u001b[43m]\u001b[49m\u001b[43m,\u001b[49m\n\u001b[32m      3\u001b[39m \u001b[43m    \u001b[49m\u001b[43mqueries_msmarco\u001b[49m\u001b[43m,\u001b[49m\n\u001b[32m      4\u001b[39m \u001b[43m    \u001b[49m\u001b[43mqrels_msmarco\u001b[49m\u001b[43m,\u001b[49m\n\u001b[32m      5\u001b[39m \u001b[43m    \u001b[49m\u001b[43meval_metrics\u001b[49m\u001b[43m=\u001b[49m\u001b[43m[\u001b[49m\u001b[43mRR\u001b[49m\u001b[43m \u001b[49m\u001b[43m@\u001b[49m\u001b[43m \u001b[49m\u001b[32;43m10\u001b[39;49m\u001b[43m,\u001b[49m\u001b[43m \u001b[49m\u001b[43mnDCG\u001b[49m\u001b[43m \u001b[49m\u001b[43m@\u001b[49m\u001b[43m \u001b[49m\u001b[32;43m20\u001b[39;49m\u001b[43m,\u001b[49m\u001b[43m \u001b[49m\u001b[43mMAP\u001b[49m\u001b[43m]\u001b[49m\u001b[43m,\u001b[49m\n\u001b[32m      6\u001b[39m \u001b[43m)\u001b[49m\n",
      "\u001b[36mFile \u001b[39m\u001b[32mc:\\Users\\claud\\Documents\\TU Delft\\EPA\\information retrieval\\project\\IR_Final_Project\\.venv\\Lib\\site-packages\\pyterrier\\pipelines.py:652\u001b[39m, in \u001b[36mExperiment\u001b[39m\u001b[34m(retr_systems, topics, qrels, eval_metrics, names, perquery, dataframe, batch_size, filter_by_qrels, filter_by_topics, baseline, test, correction, correction_alpha, highlight, round, verbose, save_dir, save_mode, save_format, precompute_prefix, **kwargs)\u001b[39m\n\u001b[32m    649\u001b[39m         \u001b[38;5;28;01mraise\u001b[39;00m \u001b[38;5;167;01mValueError\u001b[39;00m(\u001b[33m\"\u001b[39m\u001b[33mUnrecognised save_mode \u001b[39m\u001b[38;5;132;01m%s\u001b[39;00m\u001b[33m\"\u001b[39m % \u001b[38;5;28mstr\u001b[39m(save_format)) \n\u001b[32m    650\u001b[39m     save_file = os.path.join(save_dir, \u001b[33m\"\u001b[39m\u001b[38;5;132;01m%s\u001b[39;00m\u001b[33m.\u001b[39m\u001b[38;5;132;01m%s\u001b[39;00m\u001b[33m\"\u001b[39m % (name, save_ext))\n\u001b[32m--> \u001b[39m\u001b[32m652\u001b[39m time, evalMeasuresDict = \u001b[43m_run_and_evaluate\u001b[49m\u001b[43m(\u001b[49m\n\u001b[32m    653\u001b[39m \u001b[43m    \u001b[49m\u001b[43msystem\u001b[49m\u001b[43m,\u001b[49m\u001b[43m \u001b[49m\u001b[43mexecution_topics\u001b[49m\u001b[43m,\u001b[49m\u001b[43m \u001b[49m\u001b[43mqrels\u001b[49m\u001b[43m,\u001b[49m\u001b[43m \u001b[49m\u001b[43meval_metrics\u001b[49m\u001b[43m,\u001b[49m\u001b[43m \u001b[49m\n\u001b[32m    654\u001b[39m \u001b[43m    \u001b[49m\u001b[43mperquery\u001b[49m\u001b[43m=\u001b[49m\u001b[43mperquery\u001b[49m\u001b[43m \u001b[49m\u001b[38;5;129;43;01mor\u001b[39;49;00m\u001b[43m \u001b[49m\u001b[43mbaseline\u001b[49m\u001b[43m \u001b[49m\u001b[38;5;129;43;01mis\u001b[39;49;00m\u001b[43m \u001b[49m\u001b[38;5;129;43;01mnot\u001b[39;49;00m\u001b[43m \u001b[49m\u001b[38;5;28;43;01mNone\u001b[39;49;00m\u001b[43m,\u001b[49m\u001b[43m \u001b[49m\n\u001b[32m    655\u001b[39m \u001b[43m    \u001b[49m\u001b[43mbatch_size\u001b[49m\u001b[43m=\u001b[49m\u001b[43mbatch_size\u001b[49m\u001b[43m,\u001b[49m\u001b[43m \u001b[49m\n\u001b[32m    656\u001b[39m \u001b[43m    \u001b[49m\u001b[43mbackfill_qids\u001b[49m\u001b[43m=\u001b[49m\u001b[43mall_topic_qids\u001b[49m\u001b[43m \u001b[49m\u001b[38;5;28;43;01mif\u001b[39;49;00m\u001b[43m \u001b[49m\u001b[43mperquery\u001b[49m\u001b[43m \u001b[49m\u001b[38;5;28;43;01melse\u001b[39;49;00m\u001b[43m \u001b[49m\u001b[38;5;28;43;01mNone\u001b[39;49;00m\u001b[43m,\u001b[49m\n\u001b[32m    657\u001b[39m \u001b[43m    \u001b[49m\u001b[43msave_file\u001b[49m\u001b[43m=\u001b[49m\u001b[43msave_file\u001b[49m\u001b[43m,\u001b[49m\n\u001b[32m    658\u001b[39m \u001b[43m    \u001b[49m\u001b[43msave_mode\u001b[49m\u001b[43m=\u001b[49m\u001b[43msave_mode\u001b[49m\u001b[43m,\u001b[49m\n\u001b[32m    659\u001b[39m \u001b[43m    \u001b[49m\u001b[43msave_format\u001b[49m\u001b[43m=\u001b[49m\u001b[43msave_format\u001b[49m\u001b[43m,\u001b[49m\n\u001b[32m    660\u001b[39m \u001b[43m    \u001b[49m\u001b[43mpbar\u001b[49m\u001b[43m=\u001b[49m\u001b[43mpbar\u001b[49m\u001b[43m)\u001b[49m\n\u001b[32m    662\u001b[39m \u001b[38;5;28;01mif\u001b[39;00m baseline \u001b[38;5;129;01mis\u001b[39;00m \u001b[38;5;129;01mnot\u001b[39;00m \u001b[38;5;28;01mNone\u001b[39;00m:\n\u001b[32m    663\u001b[39m     evalDictsPerQ.append(evalMeasuresDict)\n",
      "\u001b[36mFile \u001b[39m\u001b[32mc:\\Users\\claud\\Documents\\TU Delft\\EPA\\information retrieval\\project\\IR_Final_Project\\.venv\\Lib\\site-packages\\pyterrier\\pipelines.py:334\u001b[39m, in \u001b[36m_run_and_evaluate\u001b[39m\u001b[34m(system, topics, qrels, metrics, pbar, save_mode, save_file, save_format, perquery, batch_size, backfill_qids)\u001b[39m\n\u001b[32m    331\u001b[39m \u001b[38;5;66;03m#transformer, evaluate all queries at once\u001b[39;00m\n\u001b[32m    333\u001b[39m starttime = timer()\n\u001b[32m--> \u001b[39m\u001b[32m334\u001b[39m res = \u001b[43msystem\u001b[49m\u001b[43m.\u001b[49m\u001b[43mtransform\u001b[49m\u001b[43m(\u001b[49m\u001b[43mtopics\u001b[49m\u001b[43m)\u001b[49m\n\u001b[32m    335\u001b[39m endtime = timer()\n\u001b[32m    336\u001b[39m runtime =  (endtime - starttime) * \u001b[32m1000.\u001b[39m\n",
      "\u001b[36mFile \u001b[39m\u001b[32mc:\\Users\\claud\\Documents\\TU Delft\\EPA\\information retrieval\\project\\IR_Final_Project\\.venv\\Lib\\site-packages\\pyterrier\\utils.py:207\u001b[39m, in \u001b[36mpre_invocation_decorator.<locals>._decorator_wrapper.<locals>._wrapper\u001b[39m\u001b[34m(*args, **kwargs)\u001b[39m\n\u001b[32m    204\u001b[39m \u001b[38;5;129m@wraps\u001b[39m(fn)\n\u001b[32m    205\u001b[39m \u001b[38;5;28;01mdef\u001b[39;00m\u001b[38;5;250m \u001b[39m\u001b[34m_wrapper\u001b[39m(*args, **kwargs):\n\u001b[32m    206\u001b[39m     decorator(fn)\n\u001b[32m--> \u001b[39m\u001b[32m207\u001b[39m     \u001b[38;5;28;01mreturn\u001b[39;00m \u001b[43mfn\u001b[49m\u001b[43m(\u001b[49m\u001b[43m*\u001b[49m\u001b[43margs\u001b[49m\u001b[43m,\u001b[49m\u001b[43m \u001b[49m\u001b[43m*\u001b[49m\u001b[43m*\u001b[49m\u001b[43mkwargs\u001b[49m\u001b[43m)\u001b[49m\n",
      "\u001b[36mFile \u001b[39m\u001b[32mc:\\Users\\claud\\Documents\\TU Delft\\EPA\\information retrieval\\project\\IR_Final_Project\\.venv\\Lib\\site-packages\\pyterrier\\terrier\\retriever.py:428\u001b[39m, in \u001b[36mRetriever.transform\u001b[39m\u001b[34m(self, queries)\u001b[39m\n\u001b[32m    426\u001b[39m         \u001b[38;5;28miter\u001b[39m = pt.tqdm(\u001b[38;5;28miter\u001b[39m, desc=\u001b[38;5;28mstr\u001b[39m(\u001b[38;5;28mself\u001b[39m), total=queries.shape[\u001b[32m0\u001b[39m], unit=\u001b[33m\"\u001b[39m\u001b[33mq\u001b[39m\u001b[33m\"\u001b[39m)\n\u001b[32m    427\u001b[39m     \u001b[38;5;28;01mfor\u001b[39;00m row \u001b[38;5;129;01min\u001b[39;00m \u001b[38;5;28miter\u001b[39m:\n\u001b[32m--> \u001b[39m\u001b[32m428\u001b[39m         res = \u001b[38;5;28;43mself\u001b[39;49m\u001b[43m.\u001b[49m\u001b[43m_retrieve_one\u001b[49m\u001b[43m(\u001b[49m\u001b[43mrow\u001b[49m\u001b[43m,\u001b[49m\u001b[43m \u001b[49m\u001b[43minput_results\u001b[49m\u001b[43m,\u001b[49m\u001b[43m \u001b[49m\u001b[43mdocno_provided\u001b[49m\u001b[43m=\u001b[49m\u001b[43mdocno_provided\u001b[49m\u001b[43m,\u001b[49m\u001b[43m \u001b[49m\u001b[43mdocid_provided\u001b[49m\u001b[43m=\u001b[49m\u001b[43mdocid_provided\u001b[49m\u001b[43m,\u001b[49m\u001b[43m \u001b[49m\u001b[43mscores_provided\u001b[49m\u001b[43m=\u001b[49m\u001b[43mscores_provided\u001b[49m\u001b[43m)\u001b[49m\n\u001b[32m    429\u001b[39m         results.extend(res)\n\u001b[32m    431\u001b[39m res_dt = pd.DataFrame(results, columns=[\u001b[33m'\u001b[39m\u001b[33mqid\u001b[39m\u001b[33m'\u001b[39m, \u001b[33m'\u001b[39m\u001b[33mdocid\u001b[39m\u001b[33m'\u001b[39m ] + \u001b[38;5;28mself\u001b[39m.metadata + [\u001b[33m'\u001b[39m\u001b[33mrank\u001b[39m\u001b[33m'\u001b[39m, \u001b[33m'\u001b[39m\u001b[33mscore\u001b[39m\u001b[33m'\u001b[39m])\n",
      "\u001b[36mFile \u001b[39m\u001b[32mc:\\Users\\claud\\Documents\\TU Delft\\EPA\\information retrieval\\project\\IR_Final_Project\\.venv\\Lib\\site-packages\\pyterrier\\utils.py:207\u001b[39m, in \u001b[36mpre_invocation_decorator.<locals>._decorator_wrapper.<locals>._wrapper\u001b[39m\u001b[34m(*args, **kwargs)\u001b[39m\n\u001b[32m    204\u001b[39m \u001b[38;5;129m@wraps\u001b[39m(fn)\n\u001b[32m    205\u001b[39m \u001b[38;5;28;01mdef\u001b[39;00m\u001b[38;5;250m \u001b[39m\u001b[34m_wrapper\u001b[39m(*args, **kwargs):\n\u001b[32m    206\u001b[39m     decorator(fn)\n\u001b[32m--> \u001b[39m\u001b[32m207\u001b[39m     \u001b[38;5;28;01mreturn\u001b[39;00m \u001b[43mfn\u001b[49m\u001b[43m(\u001b[49m\u001b[43m*\u001b[49m\u001b[43margs\u001b[49m\u001b[43m,\u001b[49m\u001b[43m \u001b[49m\u001b[43m*\u001b[49m\u001b[43m*\u001b[49m\u001b[43mkwargs\u001b[49m\u001b[43m)\u001b[49m\n",
      "\u001b[36mFile \u001b[39m\u001b[32mc:\\Users\\claud\\Documents\\TU Delft\\EPA\\information retrieval\\project\\IR_Final_Project\\.venv\\Lib\\site-packages\\pyterrier\\terrier\\retriever.py:339\u001b[39m, in \u001b[36mRetriever._retrieve_one\u001b[39m\u001b[34m(self, row, input_results, docno_provided, docid_provided, scores_provided)\u001b[39m\n\u001b[32m    336\u001b[39m     srq.setControl(\u001b[33m\"\u001b[39m\u001b[33mmatching\u001b[39m\u001b[33m\"\u001b[39m, \u001b[33m\"\u001b[39m\u001b[33morg.terrier.matching.ScoringMatching\u001b[39m\u001b[33m\"\u001b[39m + \u001b[33m\"\u001b[39m\u001b[33m,\u001b[39m\u001b[33m\"\u001b[39m + srq.getControl(\u001b[33m\"\u001b[39m\u001b[33mmatching\u001b[39m\u001b[33m\"\u001b[39m))\n\u001b[32m    338\u001b[39m \u001b[38;5;66;03m# now ask Terrier to run the request\u001b[39;00m\n\u001b[32m--> \u001b[39m\u001b[32m339\u001b[39m \u001b[38;5;28;43mself\u001b[39;49m\u001b[43m.\u001b[49m\u001b[43mmanager\u001b[49m\u001b[43m.\u001b[49m\u001b[43mrunSearchRequest\u001b[49m\u001b[43m(\u001b[49m\u001b[43msrq\u001b[49m\u001b[43m)\u001b[49m\n\u001b[32m    340\u001b[39m result = srq.getResults()\n\u001b[32m    342\u001b[39m \u001b[38;5;66;03m# check we got all of the expected metadata (if the resultset has a size at all)\u001b[39;00m\n",
      "\u001b[36mFile \u001b[39m\u001b[32mjnius\\\\jnius_export_class.pxi:877\u001b[39m, in \u001b[36mjnius.JavaMethod.__call__\u001b[39m\u001b[34m()\u001b[39m\n",
      "\u001b[36mFile \u001b[39m\u001b[32mjnius\\\\jnius_export_class.pxi:971\u001b[39m, in \u001b[36mjnius.JavaMethod.call_method\u001b[39m\u001b[34m()\u001b[39m\n",
      "\u001b[36mFile \u001b[39m\u001b[32mjnius\\\\jnius_utils.pxi:79\u001b[39m, in \u001b[36mjnius.check_exception\u001b[39m\u001b[34m()\u001b[39m\n",
      "\u001b[31mJavaException\u001b[39m: JVM exception occurred: Failed to process qid 278900 'how many cars enter the la jolla concours d elegance?' -- Lexical error at line 1, column 54.  Encountered: <EOF> after : \"\" org.terrier.querying.parser.QueryParserException"
     ]
    }
   ],
   "source": [
    "pt.Experiment(\n",
    "    [bm25_marco],\n",
    "    queries_msmarco,\n",
    "    qrels_msmarco,\n",
    "    eval_metrics=[RR @ 10, nDCG @ 20, MAP],\n",
    ")"
   ]
  },
  {
   "cell_type": "code",
   "execution_count": 22,
   "metadata": {},
   "outputs": [
    {
     "ename": "JavaException",
     "evalue": "JVM exception occurred: Failed to process qid 3990512 'how can we get concentration onsomething?' -- Lexical error at line 1, column 42.  Encountered: <EOF> after : \"\" org.terrier.querying.parser.QueryParserException",
     "output_type": "error",
     "traceback": [
      "\u001b[31m---------------------------------------------------------------------------\u001b[39m",
      "\u001b[31mJavaException\u001b[39m                             Traceback (most recent call last)",
      "\u001b[36mCell\u001b[39m\u001b[36m \u001b[39m\u001b[32mIn[22]\u001b[39m\u001b[32m, line 1\u001b[39m\n\u001b[32m----> \u001b[39m\u001b[32m1\u001b[39m \u001b[43mpt\u001b[49m\u001b[43m.\u001b[49m\u001b[43mExperiment\u001b[49m\u001b[43m(\u001b[49m\n\u001b[32m      2\u001b[39m \u001b[43m    \u001b[49m\u001b[43m[\u001b[49m\u001b[43mbm25_antique\u001b[49m\u001b[43m]\u001b[49m\u001b[43m,\u001b[49m\n\u001b[32m      3\u001b[39m \u001b[43m    \u001b[49m\u001b[43mqueries_antique\u001b[49m\u001b[43m,\u001b[49m\n\u001b[32m      4\u001b[39m \u001b[43m    \u001b[49m\u001b[43mqrels_antique\u001b[49m\u001b[43m,\u001b[49m\n\u001b[32m      5\u001b[39m \u001b[43m    \u001b[49m\u001b[43meval_metrics\u001b[49m\u001b[43m=\u001b[49m\u001b[43m[\u001b[49m\u001b[43mRR\u001b[49m\u001b[43m \u001b[49m\u001b[43m@\u001b[49m\u001b[43m \u001b[49m\u001b[32;43m10\u001b[39;49m\u001b[43m,\u001b[49m\u001b[43m \u001b[49m\u001b[43mnDCG\u001b[49m\u001b[43m \u001b[49m\u001b[43m@\u001b[49m\u001b[43m \u001b[49m\u001b[32;43m20\u001b[39;49m\u001b[43m,\u001b[49m\u001b[43m \u001b[49m\u001b[43mMAP\u001b[49m\u001b[43m]\u001b[49m\u001b[43m,\u001b[49m\n\u001b[32m      6\u001b[39m \u001b[43m)\u001b[49m\n",
      "\u001b[36mFile \u001b[39m\u001b[32mc:\\Users\\claud\\Documents\\TU Delft\\EPA\\information retrieval\\project\\IR_Final_Project\\.venv\\Lib\\site-packages\\pyterrier\\pipelines.py:652\u001b[39m, in \u001b[36mExperiment\u001b[39m\u001b[34m(retr_systems, topics, qrels, eval_metrics, names, perquery, dataframe, batch_size, filter_by_qrels, filter_by_topics, baseline, test, correction, correction_alpha, highlight, round, verbose, save_dir, save_mode, save_format, precompute_prefix, **kwargs)\u001b[39m\n\u001b[32m    649\u001b[39m         \u001b[38;5;28;01mraise\u001b[39;00m \u001b[38;5;167;01mValueError\u001b[39;00m(\u001b[33m\"\u001b[39m\u001b[33mUnrecognised save_mode \u001b[39m\u001b[38;5;132;01m%s\u001b[39;00m\u001b[33m\"\u001b[39m % \u001b[38;5;28mstr\u001b[39m(save_format)) \n\u001b[32m    650\u001b[39m     save_file = os.path.join(save_dir, \u001b[33m\"\u001b[39m\u001b[38;5;132;01m%s\u001b[39;00m\u001b[33m.\u001b[39m\u001b[38;5;132;01m%s\u001b[39;00m\u001b[33m\"\u001b[39m % (name, save_ext))\n\u001b[32m--> \u001b[39m\u001b[32m652\u001b[39m time, evalMeasuresDict = \u001b[43m_run_and_evaluate\u001b[49m\u001b[43m(\u001b[49m\n\u001b[32m    653\u001b[39m \u001b[43m    \u001b[49m\u001b[43msystem\u001b[49m\u001b[43m,\u001b[49m\u001b[43m \u001b[49m\u001b[43mexecution_topics\u001b[49m\u001b[43m,\u001b[49m\u001b[43m \u001b[49m\u001b[43mqrels\u001b[49m\u001b[43m,\u001b[49m\u001b[43m \u001b[49m\u001b[43meval_metrics\u001b[49m\u001b[43m,\u001b[49m\u001b[43m \u001b[49m\n\u001b[32m    654\u001b[39m \u001b[43m    \u001b[49m\u001b[43mperquery\u001b[49m\u001b[43m=\u001b[49m\u001b[43mperquery\u001b[49m\u001b[43m \u001b[49m\u001b[38;5;129;43;01mor\u001b[39;49;00m\u001b[43m \u001b[49m\u001b[43mbaseline\u001b[49m\u001b[43m \u001b[49m\u001b[38;5;129;43;01mis\u001b[39;49;00m\u001b[43m \u001b[49m\u001b[38;5;129;43;01mnot\u001b[39;49;00m\u001b[43m \u001b[49m\u001b[38;5;28;43;01mNone\u001b[39;49;00m\u001b[43m,\u001b[49m\u001b[43m \u001b[49m\n\u001b[32m    655\u001b[39m \u001b[43m    \u001b[49m\u001b[43mbatch_size\u001b[49m\u001b[43m=\u001b[49m\u001b[43mbatch_size\u001b[49m\u001b[43m,\u001b[49m\u001b[43m \u001b[49m\n\u001b[32m    656\u001b[39m \u001b[43m    \u001b[49m\u001b[43mbackfill_qids\u001b[49m\u001b[43m=\u001b[49m\u001b[43mall_topic_qids\u001b[49m\u001b[43m \u001b[49m\u001b[38;5;28;43;01mif\u001b[39;49;00m\u001b[43m \u001b[49m\u001b[43mperquery\u001b[49m\u001b[43m \u001b[49m\u001b[38;5;28;43;01melse\u001b[39;49;00m\u001b[43m \u001b[49m\u001b[38;5;28;43;01mNone\u001b[39;49;00m\u001b[43m,\u001b[49m\n\u001b[32m    657\u001b[39m \u001b[43m    \u001b[49m\u001b[43msave_file\u001b[49m\u001b[43m=\u001b[49m\u001b[43msave_file\u001b[49m\u001b[43m,\u001b[49m\n\u001b[32m    658\u001b[39m \u001b[43m    \u001b[49m\u001b[43msave_mode\u001b[49m\u001b[43m=\u001b[49m\u001b[43msave_mode\u001b[49m\u001b[43m,\u001b[49m\n\u001b[32m    659\u001b[39m \u001b[43m    \u001b[49m\u001b[43msave_format\u001b[49m\u001b[43m=\u001b[49m\u001b[43msave_format\u001b[49m\u001b[43m,\u001b[49m\n\u001b[32m    660\u001b[39m \u001b[43m    \u001b[49m\u001b[43mpbar\u001b[49m\u001b[43m=\u001b[49m\u001b[43mpbar\u001b[49m\u001b[43m)\u001b[49m\n\u001b[32m    662\u001b[39m \u001b[38;5;28;01mif\u001b[39;00m baseline \u001b[38;5;129;01mis\u001b[39;00m \u001b[38;5;129;01mnot\u001b[39;00m \u001b[38;5;28;01mNone\u001b[39;00m:\n\u001b[32m    663\u001b[39m     evalDictsPerQ.append(evalMeasuresDict)\n",
      "\u001b[36mFile \u001b[39m\u001b[32mc:\\Users\\claud\\Documents\\TU Delft\\EPA\\information retrieval\\project\\IR_Final_Project\\.venv\\Lib\\site-packages\\pyterrier\\pipelines.py:334\u001b[39m, in \u001b[36m_run_and_evaluate\u001b[39m\u001b[34m(system, topics, qrels, metrics, pbar, save_mode, save_file, save_format, perquery, batch_size, backfill_qids)\u001b[39m\n\u001b[32m    331\u001b[39m \u001b[38;5;66;03m#transformer, evaluate all queries at once\u001b[39;00m\n\u001b[32m    333\u001b[39m starttime = timer()\n\u001b[32m--> \u001b[39m\u001b[32m334\u001b[39m res = \u001b[43msystem\u001b[49m\u001b[43m.\u001b[49m\u001b[43mtransform\u001b[49m\u001b[43m(\u001b[49m\u001b[43mtopics\u001b[49m\u001b[43m)\u001b[49m\n\u001b[32m    335\u001b[39m endtime = timer()\n\u001b[32m    336\u001b[39m runtime =  (endtime - starttime) * \u001b[32m1000.\u001b[39m\n",
      "\u001b[36mFile \u001b[39m\u001b[32mc:\\Users\\claud\\Documents\\TU Delft\\EPA\\information retrieval\\project\\IR_Final_Project\\.venv\\Lib\\site-packages\\pyterrier\\utils.py:207\u001b[39m, in \u001b[36mpre_invocation_decorator.<locals>._decorator_wrapper.<locals>._wrapper\u001b[39m\u001b[34m(*args, **kwargs)\u001b[39m\n\u001b[32m    204\u001b[39m \u001b[38;5;129m@wraps\u001b[39m(fn)\n\u001b[32m    205\u001b[39m \u001b[38;5;28;01mdef\u001b[39;00m\u001b[38;5;250m \u001b[39m\u001b[34m_wrapper\u001b[39m(*args, **kwargs):\n\u001b[32m    206\u001b[39m     decorator(fn)\n\u001b[32m--> \u001b[39m\u001b[32m207\u001b[39m     \u001b[38;5;28;01mreturn\u001b[39;00m \u001b[43mfn\u001b[49m\u001b[43m(\u001b[49m\u001b[43m*\u001b[49m\u001b[43margs\u001b[49m\u001b[43m,\u001b[49m\u001b[43m \u001b[49m\u001b[43m*\u001b[49m\u001b[43m*\u001b[49m\u001b[43mkwargs\u001b[49m\u001b[43m)\u001b[49m\n",
      "\u001b[36mFile \u001b[39m\u001b[32mc:\\Users\\claud\\Documents\\TU Delft\\EPA\\information retrieval\\project\\IR_Final_Project\\.venv\\Lib\\site-packages\\pyterrier\\terrier\\retriever.py:428\u001b[39m, in \u001b[36mRetriever.transform\u001b[39m\u001b[34m(self, queries)\u001b[39m\n\u001b[32m    426\u001b[39m         \u001b[38;5;28miter\u001b[39m = pt.tqdm(\u001b[38;5;28miter\u001b[39m, desc=\u001b[38;5;28mstr\u001b[39m(\u001b[38;5;28mself\u001b[39m), total=queries.shape[\u001b[32m0\u001b[39m], unit=\u001b[33m\"\u001b[39m\u001b[33mq\u001b[39m\u001b[33m\"\u001b[39m)\n\u001b[32m    427\u001b[39m     \u001b[38;5;28;01mfor\u001b[39;00m row \u001b[38;5;129;01min\u001b[39;00m \u001b[38;5;28miter\u001b[39m:\n\u001b[32m--> \u001b[39m\u001b[32m428\u001b[39m         res = \u001b[38;5;28;43mself\u001b[39;49m\u001b[43m.\u001b[49m\u001b[43m_retrieve_one\u001b[49m\u001b[43m(\u001b[49m\u001b[43mrow\u001b[49m\u001b[43m,\u001b[49m\u001b[43m \u001b[49m\u001b[43minput_results\u001b[49m\u001b[43m,\u001b[49m\u001b[43m \u001b[49m\u001b[43mdocno_provided\u001b[49m\u001b[43m=\u001b[49m\u001b[43mdocno_provided\u001b[49m\u001b[43m,\u001b[49m\u001b[43m \u001b[49m\u001b[43mdocid_provided\u001b[49m\u001b[43m=\u001b[49m\u001b[43mdocid_provided\u001b[49m\u001b[43m,\u001b[49m\u001b[43m \u001b[49m\u001b[43mscores_provided\u001b[49m\u001b[43m=\u001b[49m\u001b[43mscores_provided\u001b[49m\u001b[43m)\u001b[49m\n\u001b[32m    429\u001b[39m         results.extend(res)\n\u001b[32m    431\u001b[39m res_dt = pd.DataFrame(results, columns=[\u001b[33m'\u001b[39m\u001b[33mqid\u001b[39m\u001b[33m'\u001b[39m, \u001b[33m'\u001b[39m\u001b[33mdocid\u001b[39m\u001b[33m'\u001b[39m ] + \u001b[38;5;28mself\u001b[39m.metadata + [\u001b[33m'\u001b[39m\u001b[33mrank\u001b[39m\u001b[33m'\u001b[39m, \u001b[33m'\u001b[39m\u001b[33mscore\u001b[39m\u001b[33m'\u001b[39m])\n",
      "\u001b[36mFile \u001b[39m\u001b[32mc:\\Users\\claud\\Documents\\TU Delft\\EPA\\information retrieval\\project\\IR_Final_Project\\.venv\\Lib\\site-packages\\pyterrier\\utils.py:207\u001b[39m, in \u001b[36mpre_invocation_decorator.<locals>._decorator_wrapper.<locals>._wrapper\u001b[39m\u001b[34m(*args, **kwargs)\u001b[39m\n\u001b[32m    204\u001b[39m \u001b[38;5;129m@wraps\u001b[39m(fn)\n\u001b[32m    205\u001b[39m \u001b[38;5;28;01mdef\u001b[39;00m\u001b[38;5;250m \u001b[39m\u001b[34m_wrapper\u001b[39m(*args, **kwargs):\n\u001b[32m    206\u001b[39m     decorator(fn)\n\u001b[32m--> \u001b[39m\u001b[32m207\u001b[39m     \u001b[38;5;28;01mreturn\u001b[39;00m \u001b[43mfn\u001b[49m\u001b[43m(\u001b[49m\u001b[43m*\u001b[49m\u001b[43margs\u001b[49m\u001b[43m,\u001b[49m\u001b[43m \u001b[49m\u001b[43m*\u001b[49m\u001b[43m*\u001b[49m\u001b[43mkwargs\u001b[49m\u001b[43m)\u001b[49m\n",
      "\u001b[36mFile \u001b[39m\u001b[32mc:\\Users\\claud\\Documents\\TU Delft\\EPA\\information retrieval\\project\\IR_Final_Project\\.venv\\Lib\\site-packages\\pyterrier\\terrier\\retriever.py:339\u001b[39m, in \u001b[36mRetriever._retrieve_one\u001b[39m\u001b[34m(self, row, input_results, docno_provided, docid_provided, scores_provided)\u001b[39m\n\u001b[32m    336\u001b[39m     srq.setControl(\u001b[33m\"\u001b[39m\u001b[33mmatching\u001b[39m\u001b[33m\"\u001b[39m, \u001b[33m\"\u001b[39m\u001b[33morg.terrier.matching.ScoringMatching\u001b[39m\u001b[33m\"\u001b[39m + \u001b[33m\"\u001b[39m\u001b[33m,\u001b[39m\u001b[33m\"\u001b[39m + srq.getControl(\u001b[33m\"\u001b[39m\u001b[33mmatching\u001b[39m\u001b[33m\"\u001b[39m))\n\u001b[32m    338\u001b[39m \u001b[38;5;66;03m# now ask Terrier to run the request\u001b[39;00m\n\u001b[32m--> \u001b[39m\u001b[32m339\u001b[39m \u001b[38;5;28;43mself\u001b[39;49m\u001b[43m.\u001b[49m\u001b[43mmanager\u001b[49m\u001b[43m.\u001b[49m\u001b[43mrunSearchRequest\u001b[49m\u001b[43m(\u001b[49m\u001b[43msrq\u001b[49m\u001b[43m)\u001b[49m\n\u001b[32m    340\u001b[39m result = srq.getResults()\n\u001b[32m    342\u001b[39m \u001b[38;5;66;03m# check we got all of the expected metadata (if the resultset has a size at all)\u001b[39;00m\n",
      "\u001b[36mFile \u001b[39m\u001b[32mjnius\\\\jnius_export_class.pxi:877\u001b[39m, in \u001b[36mjnius.JavaMethod.__call__\u001b[39m\u001b[34m()\u001b[39m\n",
      "\u001b[36mFile \u001b[39m\u001b[32mjnius\\\\jnius_export_class.pxi:971\u001b[39m, in \u001b[36mjnius.JavaMethod.call_method\u001b[39m\u001b[34m()\u001b[39m\n",
      "\u001b[36mFile \u001b[39m\u001b[32mjnius\\\\jnius_utils.pxi:79\u001b[39m, in \u001b[36mjnius.check_exception\u001b[39m\u001b[34m()\u001b[39m\n",
      "\u001b[31mJavaException\u001b[39m: JVM exception occurred: Failed to process qid 3990512 'how can we get concentration onsomething?' -- Lexical error at line 1, column 42.  Encountered: <EOF> after : \"\" org.terrier.querying.parser.QueryParserException"
     ]
    }
   ],
   "source": [
    "pt.Experiment(\n",
    "    [bm25_antique],\n",
    "    queries_antique,\n",
    "    qrels_antique,\n",
    "    eval_metrics=[RR @ 10, nDCG @ 20, MAP],\n",
    ")"
   ]
  },
  {
   "cell_type": "code",
   "execution_count": null,
   "metadata": {},
   "outputs": [],
   "source": []
  }
 ],
 "metadata": {
  "kernelspec": {
   "display_name": ".venv",
   "language": "python",
   "name": "python3"
  },
  "language_info": {
   "codemirror_mode": {
    "name": "ipython",
    "version": 3
   },
   "file_extension": ".py",
   "mimetype": "text/x-python",
   "name": "python",
   "nbconvert_exporter": "python",
   "pygments_lexer": "ipython3",
   "version": "3.11.0"
  }
 },
 "nbformat": 4,
 "nbformat_minor": 2
}
